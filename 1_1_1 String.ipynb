{
 "cells": [
  {
   "cell_type": "markdown",
   "metadata": {},
   "source": [
    "String\n",
    "=======\n",
    "\n",
    "2018/01/25\n",
    "\n",
    "Edited by Hanson Chang\n",
    "\n",
    "Reference sources: [tutorialpoints - LEARN PYTHON (String)](https://www.tutorialspoint.com/python/python_strings.htm)"
   ]
  },
  {
   "cell_type": "markdown",
   "metadata": {},
   "source": [
    "Strings in Python are identified as a continuous set of characters represented in the quotation marks. Python allows for either pairs of single or double quotes. Subsets of strings can be taken using the slice operator ( `[]` and `[:]` ) with indexes starting at 0 in the beginning of the string and working their way from -1 at the end.\n",
    "\n",
    "The plus (`+`) sign is the string concatenation operator and the asterisk (`*`) is the repetition operator. For example −\n"
   ]
  },
  {
   "cell_type": "code",
   "execution_count": 1,
   "metadata": {},
   "outputs": [
    {
     "name": "stdout",
     "output_type": "stream",
     "text": [
      "Hello World!\n",
      "H\n",
      "llo W\n",
      "llo World!\n",
      "llo Worl\n",
      "Hello World!Hello World!\n",
      "Hello World!TEST\n"
     ]
    }
   ],
   "source": [
    "string = 'Hello World!'\n",
    "\n",
    "print(string)          # Prints complete string\n",
    "print(string[0])       # Prints first character of the string\n",
    "print(string[2:7])     # Prints characters starting from 3rd to 5th\n",
    "print(string[2:])      # Prints string starting from 3rd character to the end\n",
    "print(string[2:-2])    # Prints characters starting from 3rd in the begin and end at 2nd from the end\n",
    "print(string * 2)      # Prints string two times\n",
    "print(string + 'TEST') # Prints concatenated string"
   ]
  },
  {
   "cell_type": "markdown",
   "metadata": {},
   "source": [
    "Updating Strings\n",
    "---------------\n",
    "\n",
    "You can \"update\" an existing string by (re)assigning a variable to \"another\" string. The new value can be related to its previous value or to a completely different string altogether. For example −"
   ]
  },
  {
   "cell_type": "code",
   "execution_count": 6,
   "metadata": {},
   "outputs": [
    {
     "name": "stdout",
     "output_type": "stream",
     "text": [
      "Original String :-  Hello World!\n",
      " Updated String :-  Hello Python\n"
     ]
    }
   ],
   "source": [
    "string = 'Hello World!'\n",
    "print(\"Original String :- \", string)\n",
    "print(\" Updated String :- \", string[:6] + 'Python')"
   ]
  },
  {
   "cell_type": "markdown",
   "metadata": {},
   "source": [
    "However, if you want to update a few characters in the original string, there are a few ways. For example-"
   ]
  },
  {
   "cell_type": "code",
   "execution_count": 2,
   "metadata": {},
   "outputs": [
    {
     "name": "stdout",
     "output_type": "stream",
     "text": [
      "Method 1:  Hello Python\n",
      "Method 2:  Hello Python\n"
     ]
    }
   ],
   "source": [
    "# Method 1\n",
    "string = 'Hello World!'\n",
    "string_list = list(string)\n",
    "string_list[6:] = 'Python'\n",
    "string = ''.join(string_list)\n",
    "print('Method 1: ', string)\n",
    "\n",
    "# Method 2\n",
    "string = 'Hello World!'\n",
    "string = string[:6] + 'Python'\n",
    "print('Method 2: ', string)"
   ]
  },
  {
   "cell_type": "markdown",
   "metadata": {},
   "source": [
    "Excape Characters\n",
    "----------------\n",
    "Following table is a list of escape or non-printable characters that can be represented with backslash (`\\`) notation.\n",
    "\n",
    "|Notation|   Description       |\n",
    "|:------:|:--------------------|\n",
    "|  `\\b`  |Backspace.           |\n",
    "|  `\\e`  |Escape.              |\n",
    "|  `\\n`  |Newline.             |\n",
    "|  `\\r`  |Carriage return.     |\n",
    "|  `\\t`  |Tab.                 |\n",
    "|  `%%`  |A single literal `%`.|\n",
    "\n",
    "\n",
    "Special Operators\n",
    "-----------------\n",
    "\n",
    "|        |Operator  |   Description                                                     |\n",
    "|:------:|:---------|:------------------------------------------------------------------|\n",
    "|  `in`  |Membership|Returns `True` if a character exists in the given string.\t        |\n",
    "|`not in`|Membership|Returns `True` if a character does not exist in the given string.  |\n",
    "| `r`/`R`|Raw String|Suppresses actual meaning of Escape Characters. The syntax for raw strings is exactly the same as for normal strings with the exception of the raw string operator, the letter '`r`,' which precedes the quotation marks.                                                                                  |\n",
    "|   `%`  |Format    |Performs String formatting. See at next section.                   |"
   ]
  },
  {
   "cell_type": "code",
   "execution_count": 13,
   "metadata": {},
   "outputs": [
    {
     "name": "stdout",
     "output_type": "stream",
     "text": [
      "Hello World!\tThis is Python.\n",
      "\n",
      "True\n",
      "Hello World!\\t This suppresses actual meaning of Escape Characters.\\n\n"
     ]
    }
   ],
   "source": [
    "string = \"Hello World!\\tThis is Python.\\n\"\n",
    "print(string)\n",
    "\n",
    "print(\"Hello\" in string)\n",
    "\n",
    "print(r\"Hello World!\\t This suppresses actual meaning of Escape Characters.\\n\")"
   ]
  },
  {
   "cell_type": "markdown",
   "metadata": {},
   "source": [
    "String Formatting Operator\n",
    "------------------------\n",
    "One of Python's coolest features is the string format operator `%`. This operator is unique to strings and makes up for the pack of having functions from C's `printf()` family. Here is the list of complete set of symbols which can be used along with `%` −\n",
    "\n",
    "|Format Symbol|   Description                                   |\n",
    "|:-----------:|:------------------------------------------------|\n",
    "|     `%s`    |string conversion via `str()` prior to formatting|\n",
    "|     `%d`    |signed decimal integer                           |\n",
    "|     `%u`    |unsigned decimal integer                         |\n",
    "|     `%o`    |octal integer                                    |\n",
    "| `%x` / `%X` |hexadecimal integer                              |\n",
    "| `%e` / `%E` |exponential notation                             |\n",
    "|     `%f`    |floating point real number                       |\n",
    "\n",
    "For example, "
   ]
  },
  {
   "cell_type": "code",
   "execution_count": 19,
   "metadata": {},
   "outputs": [
    {
     "name": "stdout",
     "output_type": "stream",
     "text": [
      "I need 3 apple(s).\n",
      "I need 5 banana(s).\n",
      "I need 2 cherry(s).\n"
     ]
    }
   ],
   "source": [
    "fruit_dict = {'apple': 3, 'banana': 5, 'cherry': 2}\n",
    "for fruit in fruit_dict:\n",
    "    print(\"I need %d %s(s).\" % (fruit_dict[fruit], fruit))"
   ]
  },
  {
   "cell_type": "markdown",
   "metadata": {},
   "source": [
    "Another way of formatting strings is using the `format()`, one of the string methods. The `format()` method has the following syntex - "
   ]
  },
  {
   "cell_type": "code",
   "execution_count": 20,
   "metadata": {},
   "outputs": [
    {
     "name": "stdout",
     "output_type": "stream",
     "text": [
      "I need 3 apple(s).\n",
      "I need 5 banana(s).\n",
      "I need 2 cherry(s).\n"
     ]
    }
   ],
   "source": [
    "fruit_dict = {'apple': 3, 'banana': 5, 'cherry': 2}\n",
    "for fruit in fruit_dict:\n",
    "    print(\"I need {} {}(s).\".format(fruit_dict[fruit], fruit))"
   ]
  },
  {
   "cell_type": "markdown",
   "metadata": {},
   "source": [
    "***Congrates! You are ready to move on!***"
   ]
  }
 ],
 "metadata": {
  "kernelspec": {
   "display_name": "Python 3",
   "language": "python",
   "name": "python3"
  },
  "language_info": {
   "codemirror_mode": {
    "name": "ipython",
    "version": 3
   },
   "file_extension": ".py",
   "mimetype": "text/x-python",
   "name": "python",
   "nbconvert_exporter": "python",
   "pygments_lexer": "ipython3",
   "version": "3.6.1"
  }
 },
 "nbformat": 4,
 "nbformat_minor": 2
}
