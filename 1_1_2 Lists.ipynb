{
 "cells": [
  {
   "cell_type": "markdown",
   "metadata": {},
   "source": [
    "Lists\n",
    "=======\n",
    "\n",
    "2018/01/29\n",
    "\n",
    "Edited by Hanson Chang\n",
    "\n",
    "Reference sources: [tutorialpoints - LEARN PYTHON (Lists)](https://www.tutorialspoint.com/python/python_lists.htm)"
   ]
  },
  {
   "cell_type": "markdown",
   "metadata": {},
   "source": [
    "The list is a most versatile datatype available in Python which can be written as a list of comma-separated values (items) between square brackets. Important thing about a list is that items in a list need not be of the same type.\n",
    "\n",
    "Creating a list is as simple as putting different comma-separated values between square brackets. For example −"
   ]
  },
  {
   "cell_type": "code",
   "execution_count": 7,
   "metadata": {
    "collapsed": true
   },
   "outputs": [],
   "source": [
    "list1 = ['physics', 'chemistry', 1997, 2000];\n",
    "list2 = [1, 2, 3, 4, 5 ];"
   ]
  },
  {
   "cell_type": "markdown",
   "metadata": {},
   "source": [
    "Similar to string indices, list indices start at 0, and lists can be sliced, concatenated and so on."
   ]
  },
  {
   "cell_type": "code",
   "execution_count": 2,
   "metadata": {},
   "outputs": [
    {
     "name": "stdout",
     "output_type": "stream",
     "text": [
      "list1[0]:  physics\n",
      "list2[1:5]:  [2, 3, 4, 5]\n"
     ]
    }
   ],
   "source": [
    "list1 = ['physics', 'chemistry', 1997, 2000];\n",
    "list2 = [1, 2, 3, 4, 5 ];\n",
    "print(\"list1[0]: \", list1[0])\n",
    "print(\"list2[1:5]: \", list2[1:5])"
   ]
  },
  {
   "cell_type": "markdown",
   "metadata": {},
   "source": [
    "Updating Lists\n",
    "-------------\n",
    "\n",
    "You can update single or multiple elements of lists by giving the slice on the left-hand side of the assignment operator, and you can add to elements in a list with the `append()` method. For example −"
   ]
  },
  {
   "cell_type": "code",
   "execution_count": 9,
   "metadata": {},
   "outputs": [
    {
     "name": "stdout",
     "output_type": "stream",
     "text": [
      "    Value available at index 2 :  c\n",
      "New value available at index 2 :  2001\n"
     ]
    }
   ],
   "source": [
    "list3 = [\"a\", \"b\", \"c\", \"d\"]\n",
    "print(\"    Value available at index 2 : \", list3[2])\n",
    "list3[2] = 2001;\n",
    "print(\"New value available at index 2 : \", list3[2])"
   ]
  },
  {
   "cell_type": "markdown",
   "metadata": {},
   "source": [
    "Delete List Elements\n",
    "-------------------\n",
    "\n",
    "To remove a list element, you can use either the del statement if you know exactly which element(s) you are deleting or the `remove()` method if you do not know. For example −"
   ]
  },
  {
   "cell_type": "code",
   "execution_count": 12,
   "metadata": {},
   "outputs": [
    {
     "name": "stdout",
     "output_type": "stream",
     "text": [
      "['physics', 'chemistry', 1997, 2000]\n",
      "After deleting value at index 2 : \n",
      "['physics', 'chemistry', 2000]\n"
     ]
    }
   ],
   "source": [
    "list1 = ['physics', 'chemistry', 1997, 2000];\n",
    "print(list1)\n",
    "del list1[2];\n",
    "print(\"After deleting value at index 2 : \")\n",
    "print(list1)"
   ]
  },
  {
   "cell_type": "markdown",
   "metadata": {},
   "source": [
    "Basic List Operations\n",
    "-------------------\n",
    "Lists respond to all of the general sequence operations we used on strings in the prior chapter. Such as -\n",
    " \n",
    "|    |  Operator   |\n",
    "|:--:|:-----------:|\n",
    "| `+`|Concatenation|\n",
    "| `*`| Repetition  |\n",
    "|`in`| Membership  |"
   ]
  },
  {
   "cell_type": "code",
   "execution_count": 23,
   "metadata": {},
   "outputs": [
    {
     "name": "stdout",
     "output_type": "stream",
     "text": [
      "['physics', 'chemistry', 1997, 2000, 1, 2, 3, 4, 5]\n",
      "['physics', 'chemistry', 1997, 2000, 'physics', 'chemistry', 1997, 2000]\n",
      "True\n"
     ]
    }
   ],
   "source": [
    "list1 = ['physics', 'chemistry', 1997, 2000];\n",
    "list2 = [1, 2, 3, 4, 5 ];\n",
    "print(list1 + list2)\n",
    "print(list1 * 2)\n",
    "print(2 in list2)"
   ]
  },
  {
   "cell_type": "markdown",
   "metadata": {},
   "source": [
    "Basic List Functions and Methods\n",
    "------------------------------\n",
    "Python includes the following list functions −\n",
    "\n",
    "|  Function |   Description                            |\n",
    "|:----------|:-----------------------------------------|\n",
    "|`len(list)`|Gives the total length of the list.       |\n",
    "|`max(list)`|Returns item from the list with max value.|\n",
    "|`min(list)`|Returns item from the list with min value.|\n",
    "|`list(seq)`|Converts a sequence into a list.          |\n",
    "\n",
    "Python includes following list methods - \n",
    "\n",
    "|  Method                |   Description                                                    |\n",
    "|:-----------------------|:-----------------------------------------------------------------|\n",
    "|`list.append(obj)`      |Appends the object `obj` to the `list`.                           |\n",
    "|`list.count(obj)`       |Returns count of how many times `obj` occurs in the `list`.       |\n",
    "|`list.extend(list)`     |Appends the contents of the `seq` to the `list`.                  |\n",
    "|`list.index(obj)`       |Returns the lowest index in the `list` that `obj` appears.        |\n",
    "|`list.insert(index,obj)`|Inserts the object `obj` into the `list` at offset `index`.       |\n",
    "|`list.pop(obj=list[-1])`|Removes and returns the last object or `obj` from the `list`.     |\n",
    "|`list.remove(obj)`      |Removes the object `obj` from the `list`.                         |\n",
    "|`list.reverse()`        |Return reversed objects of `list` in place.                       |\n",
    "|`list.sort([func])`     |Sorts objects of `list`, use compare `func` if given. Return `None`.|"
   ]
  },
  {
   "cell_type": "code",
   "execution_count": 6,
   "metadata": {},
   "outputs": [
    {
     "name": "stdout",
     "output_type": "stream",
     "text": [
      "list1 =\t\t [2, 5, 39, 49, 105, 4, 27, 1002]\n",
      "sorted(list1) :- [2, 4, 5, 27, 39, 49, 105, 1002]\n",
      "list1 :-\t [2, 5, 39, 49, 105, 4, 27, 1002]\n",
      "list1.sort() :-\t None\n",
      "list1 :-\t [2, 4, 5, 27, 39, 49, 105, 1002]\n"
     ]
    }
   ],
   "source": [
    "list1 = [2, 5, 39, 49, 105, 4, 27, 1002]\n",
    "\n",
    "print('list1 =\\t\\t', list1)\n",
    "print('sorted(list1) :-', sorted(list1))\n",
    "print('list1 :-\\t', list1)\n",
    "print('list1.sort() :-\\t', list1.sort())\n",
    "print('list1 :-\\t', list1)"
   ]
  },
  {
   "cell_type": "markdown",
   "metadata": {},
   "source": [
    "***Congrates! You are ready to move on!***"
   ]
  }
 ],
 "metadata": {
  "kernelspec": {
   "display_name": "Python 3",
   "language": "python",
   "name": "python3"
  },
  "language_info": {
   "codemirror_mode": {
    "name": "ipython",
    "version": 3
   },
   "file_extension": ".py",
   "mimetype": "text/x-python",
   "name": "python",
   "nbconvert_exporter": "python",
   "pygments_lexer": "ipython3",
   "version": "3.6.1"
  }
 },
 "nbformat": 4,
 "nbformat_minor": 2
}
