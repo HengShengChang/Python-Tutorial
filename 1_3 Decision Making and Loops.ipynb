{
 "cells": [
  {
   "cell_type": "markdown",
   "metadata": {},
   "source": [
    "Decision Making and Loops\n",
    "==============\n",
    "\n",
    "2018/01/21\n",
    "\n",
    "Edited by Hanson Chang\n",
    "\n",
    "Reference sources: [tutorialpoints - LEARN PYTHON (Decision Making)](https://www.tutorialspoint.com/python/python_decision_making.htm), [tutorialpoints - LEARN PYTHON (Loops)](https://www.tutorialspoint.com/python/python_loops.htm)"
   ]
  },
  {
   "cell_type": "markdown",
   "metadata": {},
   "source": [
    "* Decision Making\n",
    "    * **`if`**\n",
    "* Loops\n",
    "    * **`for`**\n",
    "    * **`while`**\n",
    "    * **Loop Control Statements**"
   ]
  },
  {
   "cell_type": "markdown",
   "metadata": {},
   "source": [
    "`if`\n",
    "---\n",
    "\n",
    "Python programming language provides following types of decision making statements -\n",
    "\n",
    "\n",
    "|      |Statement|   Description                                                                        |\n",
    "|:----:|:--------|:-------------------------------------------------------------------------------------|\n",
    "| `if` |if       |An `if` statement consists of a boolean expression followed by one or more statements.|\n",
    "|`elif`|else if  |You can use one `if` or `elif` statement inside another `if` or `elif` statement(s).  |\n",
    "|`else`|else     |An `if` statement can be followed by an optional `else` statement, which executes when the boolean expression is `False`.|"
   ]
  },
  {
   "cell_type": "code",
   "execution_count": 2,
   "metadata": {},
   "outputs": [
    {
     "name": "stdout",
     "output_type": "stream",
     "text": [
      "Expression value is less than 200\n",
      "Which is 100\n"
     ]
    }
   ],
   "source": [
    "var = 100\n",
    "if var < 200:\n",
    "    print(\"Expression value is less than 200\")\n",
    "    if var == 150:\n",
    "        print(\"Which is 150\")\n",
    "    elif var == 100:\n",
    "        print(\"Which is 100\")\n",
    "    elif var == 50:\n",
    "        print(\"Which is 50\")\n",
    "    elif var < 50:\n",
    "        print(\"Expression value is less than 50\")\n",
    "else:\n",
    "    print(\"Expression value is bigger or equal than 200\")"
   ]
  },
  {
   "cell_type": "markdown",
   "metadata": {},
   "source": [
    "`for`\n",
    "------\n",
    "Executes a sequence of statements multiple times and abbreviates the code that manages the loop variable. `for` loop has the ability to iterate over the items of any sequence, such as a string, a list or a tuple."
   ]
  },
  {
   "cell_type": "code",
   "execution_count": 1,
   "metadata": {},
   "outputs": [
    {
     "name": "stdout",
     "output_type": "stream",
     "text": [
      "Current Letter : P\n",
      "Current Letter : y\n",
      "Current Letter : t\n",
      "Current Letter : h\n",
      "Current Letter : o\n",
      "Current Letter : n\n",
      "Current fruit : banana\n",
      "Current fruit : apple\n",
      "Current fruit : mango\n"
     ]
    }
   ],
   "source": [
    "for letter in 'Python':     # First Example\n",
    "    print(\"Current Letter :\", letter)\n",
    "\n",
    "fruits = ['banana', 'apple',  'mango']\n",
    "for fruit in fruits:        # Second Example\n",
    "    print(\"Current fruit :\", fruit)"
   ]
  },
  {
   "cell_type": "markdown",
   "metadata": {},
   "source": [
    "An alternative way of iterating through each item is by index offset into the sequence itself."
   ]
  },
  {
   "cell_type": "code",
   "execution_count": 2,
   "metadata": {},
   "outputs": [
    {
     "name": "stdout",
     "output_type": "stream",
     "text": [
      "Current fruit : banana\n",
      "Current fruit : apple\n",
      "Current fruit : mango\n"
     ]
    }
   ],
   "source": [
    "fruits = ['banana', 'apple',  'mango']\n",
    "for index in range(len(fruits)):\n",
    "    print(\"Current fruit :\", fruits[index])"
   ]
  },
  {
   "cell_type": "markdown",
   "metadata": {},
   "source": [
    "`while`\n",
    "-------\n",
    "Repeats a statement or group of statements while a given condition is `True`. It tests the condition before executing the loop body."
   ]
  },
  {
   "cell_type": "code",
   "execution_count": 3,
   "metadata": {},
   "outputs": [
    {
     "name": "stdout",
     "output_type": "stream",
     "text": [
      "The count is: 0\n",
      "The count is: 1\n",
      "The count is: 2\n",
      "The count is: 3\n",
      "The count is: 4\n",
      "The count is: 5\n",
      "The count is: 6\n",
      "The count is: 7\n",
      "The count is: 8\n"
     ]
    }
   ],
   "source": [
    "count = 0\n",
    "while (count < 9):\n",
    "    print(\"The count is:\", count)\n",
    "    count +=  1"
   ]
  },
  {
   "cell_type": "markdown",
   "metadata": {},
   "source": [
    "Notice that a loop will become an **infinite loop** if a condition never becomes `False`. You must use caution when using `while` loops because of the possibility that this condition never resolves to a `False` value. This results in a loop that never ends. Such a loop is called an infinite loop.\n",
    "```python\n",
    "count = 1\n",
    "while count > 0 :  # This constructs an infinite loop\n",
    "    print(\"The count is:\", count)\n",
    "    count += 1\n",
    "```\n",
    "When the above code is executed, it produces the following result −\n",
    "\n",
    "```bash\n",
    "The count is: 1\n",
    "The count is: 2\n",
    "The count is: 3\n",
    "The count is: 4\n",
    "The count is: 5\n",
    "---------------------------------------------------------------------------\n",
    "KeyboardInterrupt                         Traceback (most recent call last)\n",
    "<ipython-input-16-5b3501852805> in <module>()\n",
    "      1 count = 1\n",
    "      2 while count > 0 :  # This constructs an infinite loop\n",
    "----> 3     print(\"The count is:\", count)\n",
    "```\n",
    "\n",
    "Above example goes in an infinite loop and you need to use CTRL+C to exit the program.\n",
    "\n",
    "An infinite loop, however, might be useful in client/server programming where the server needs to run continuously so that client programs can communicate with it as and when required."
   ]
  },
  {
   "cell_type": "markdown",
   "metadata": {},
   "source": [
    "Loop Control Statements\n",
    "---------------------\n",
    "\n",
    "Loop control statements change execution from its normal sequence. When execution leaves a scope, all automatic objects that were created in that scope are destroyed.\n",
    "\n",
    "Python supports the following control statements -\n",
    "\n",
    "\n",
    "| Statement|   Description                                                                                        |\n",
    "|:--------:|:-----------------------------------------------------------------------------------------------------|\n",
    "|  `break` |Terminates the loop statement and transfers execution to the statement immediately following the loop.|\n",
    "|`continue`|Causes the loop to skip the remainder of its body and immediately retest its condition prior to reiterating.|\n",
    "|  `pass`  |This statement in Python is used when a statement is required syntactically but you do not want any command or code to execute.|\n",
    "|  `else`  |Python supports an `else` statement associated with a loop statement. The `else` statement is executed when the `for` loop has exhausted iterting the list or the `while` loop condition becomes `False`.       |"
   ]
  },
  {
   "cell_type": "code",
   "execution_count": 49,
   "metadata": {},
   "outputs": [
    {
     "name": "stdout",
     "output_type": "stream",
     "text": [
      "2 is a prime number.\n",
      "3 is a prime number.\n",
      "4 has a prime factor: 2.\n",
      "5 is a prime number.\n",
      "6 has a prime factor: 2.\n",
      "6 has a prime factor: 3.\n",
      "7 is a prime number.\n",
      "8 has a prime factor: 2.\n",
      "8 has a factor: 4.\n",
      "9 has a prime factor: 3.\n",
      "10 has a prime factor: 2.\n",
      "10 has a prime factor: 5.\n",
      "11 is a prime number.\n",
      "12 has a prime factor: 2.\n",
      "12 has a prime factor: 3.\n",
      "12 has a factor: 4.\n",
      "12 has a factor: 6.\n",
      "13 is a prime number.\n",
      "14 has a prime factor: 2.\n",
      "14 has a prime factor: 7.\n",
      "15 has a prime factor: 3.\n",
      "15 has a prime factor: 5.\n",
      "16 has a prime factor: 2.\n",
      "16 has a factor: 4.\n",
      "16 has a factor: 8.\n",
      "17 is a prime number.\n",
      "18 has a prime factor: 2.\n",
      "18 has a prime factor: 3.\n",
      "18 has a factor: 6.\n",
      "18 has a factor: 9.\n",
      "19 is a prime number.\n"
     ]
    }
   ],
   "source": [
    "for i in range(2, 20):\n",
    "    primeFlag = True\n",
    "    for j in range(2, i // 2 + 1):\n",
    "        if (i % j) :\n",
    "            # j is not a factor of i\n",
    "            continue\n",
    "        else:\n",
    "            # j is a factor of i\n",
    "            primeFlag = False\n",
    "            k = 2\n",
    "            while(k <= j // 2):\n",
    "                if (j % k) :\n",
    "                    # k is not a factor of j\n",
    "                    pass\n",
    "                else:\n",
    "                    # k is a factor of j => j is not a prime number\n",
    "                    print(\"%d has a factor: %d.\" % (i, j))\n",
    "                    \n",
    "                    \n",
    "                k += 1\n",
    "            else:\n",
    "                # j has no factor other than 1 or itself => j is a prime number\n",
    "                print(\"%d has a prime factor: %d.\" %(i,j))\n",
    "    else:\n",
    "        # if i has no facotr other than 1 or itself => i is a prime number\n",
    "        if primeFlag : print(\"%d is a prime number.\" %i)   "
   ]
  },
  {
   "cell_type": "markdown",
   "metadata": {},
   "source": [
    "***Congrates! You are ready to move on!***"
   ]
  }
 ],
 "metadata": {
  "kernelspec": {
   "display_name": "Python 3",
   "language": "python",
   "name": "python3"
  },
  "language_info": {
   "codemirror_mode": {
    "name": "ipython",
    "version": 3
   },
   "file_extension": ".py",
   "mimetype": "text/x-python",
   "name": "python",
   "nbconvert_exporter": "python",
   "pygments_lexer": "ipython3",
   "version": "3.6.1"
  }
 },
 "nbformat": 4,
 "nbformat_minor": 2
}
