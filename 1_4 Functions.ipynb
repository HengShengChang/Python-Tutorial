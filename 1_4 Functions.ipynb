{
 "cells": [
  {
   "cell_type": "markdown",
   "metadata": {},
   "source": [
    "Decision Making and Loops\n",
    "==============\n",
    "\n",
    "2018/01/21\n",
    "\n",
    "Edited by Hanson Chang\n",
    "\n",
    "Reference sources: [tutorialpoints - LEARN PYTHON (Functions)](https://www.tutorialspoint.com/python/python_functions.htm)"
   ]
  },
  {
   "cell_type": "markdown",
   "metadata": {},
   "source": [
    "A function is a block of organized, reusable code that is used to perform a single, related action. Functions provide better modularity for your application and a high degree of code reusing.\n",
    "\n",
    "As you already know, Python gives you many built-in functions like `print()`, etc. but you can also create your own functions. These functions are called *user-defined functions*."
   ]
  },
  {
   "cell_type": "markdown",
   "metadata": {},
   "source": [
    "Defining a Function (Syntax)\n",
    "--------------------------\n",
    "```python\n",
    "def functionname( parameters ):\n",
    "    '''function_docstring'''\n",
    "    function_suite\n",
    "    return [expression]\n",
    "```\n",
    "By default, `parameters` have a positional behavior and you need to inform them in the same order that they were defined.\n",
    "\n",
    "Calling a Function\n",
    "-----------------\n",
    "Defining a function only gives it a name, specifies the parameters that are to be included in the function and structures the blocks of code.\n",
    "\n",
    "Once the basic structure of a function is finalized, you can execute it by calling it from another function or directly from the Python prompt. \n",
    "\n",
    "Following is the example to call `printme()` function, which takes a string as input parameter and prints it on standard screen −"
   ]
  },
  {
   "cell_type": "code",
   "execution_count": 12,
   "metadata": {},
   "outputs": [
    {
     "name": "stdout",
     "output_type": "stream",
     "text": [
      "I'm first call to user defined function!\n",
      "Again second call to the same function\n"
     ]
    }
   ],
   "source": [
    "# Function definition is here\n",
    "def printme( string ):\n",
    "    '''This prints a passed string into this function'''\n",
    "    \n",
    "    print(string)\n",
    "    return\n",
    "\n",
    "# Now you can call printme function\n",
    "printme(\"I'm first call to user defined function!\")\n",
    "printme(\"Again second call to the same function\")"
   ]
  },
  {
   "cell_type": "markdown",
   "metadata": {},
   "source": [
    "Pass by reference or value\n",
    "------------------------\n",
    "\n",
    "All parameters (arguments) in the Python language are passed by reference. It means if you change what a parameter refers to within a function, the change also reflects back in the calling function. For example −"
   ]
  },
  {
   "cell_type": "code",
   "execution_count": 13,
   "metadata": {},
   "outputs": [
    {
     "name": "stdout",
     "output_type": "stream",
     "text": [
      "Values inside the function:  [10, 20, 30, [1, 2, 3, 4]]\n",
      "Values outside the function:  [10, 20, 30, [1, 2, 3, 4]]\n"
     ]
    }
   ],
   "source": [
    "# Function definition is here\n",
    "def changeme( mylist ):\n",
    "    '''This changes a passed list into this function'''\n",
    "    \n",
    "    mylist.append([1, 2, 3, 4]);\n",
    "    print(\"Values inside the function: \", mylist)\n",
    "    return\n",
    "\n",
    "# Now you can call changeme function\n",
    "mylist = [10, 20, 30];\n",
    "changeme(mylist);\n",
    "print(\"Values outside the function: \", mylist)"
   ]
  },
  {
   "cell_type": "markdown",
   "metadata": {},
   "source": [
    "There is one more example where argument is being passed by reference but the reference is being overwritten inside the called function.\n",
    "\n",
    "The parameter `mylist` is local to the function `changeme`. Changing `mylist` within the function does not affect `mylist` outside to the function. The function accomplishes nothing and finally this would produce the following result −"
   ]
  },
  {
   "cell_type": "code",
   "execution_count": 5,
   "metadata": {},
   "outputs": [
    {
     "name": "stdout",
     "output_type": "stream",
     "text": [
      "Values inside the function:  [1, 2, 3, 4]\n",
      "Values outside the function:  [10, 20, 30]\n"
     ]
    }
   ],
   "source": [
    "# Function definition is here\n",
    "def changeme(mylist):\n",
    "    '''This locally changes a passed list into this function'''\n",
    "    \n",
    "    mylist = [1, 2, 3, 4]; # This would assig new reference in mylist\n",
    "    print(\"Values inside the function: \", mylist)\n",
    "    return\n",
    "\n",
    "# Now you can call changeme function\n",
    "mylist = [10, 20, 30];\n",
    "changeme(mylist);\n",
    "print(\"Values outside the function: \", mylist)\n"
   ]
  },
  {
   "cell_type": "markdown",
   "metadata": {},
   "source": [
    "Function Arguments\n",
    "-----------------\n",
    "\n",
    "You can call a function by using the following types of formal arguments −\n",
    "\n",
    "* Required arguments\n",
    "* Keyword arguments\n",
    "* Default arguments\n",
    "* Variable-length arguments"
   ]
  },
  {
   "cell_type": "markdown",
   "metadata": {},
   "source": [
    "**Required arguments**\n",
    "\n",
    "Required arguments are the arguments passed to a function in correct positional order. Here, the number of arguments in the function call should match exactly with the function definition.\n",
    "\n",
    "To call the function `printme( str1, str2 )`, you definitely need to pass two arguments, otherwise it gives a syntax error as follows −"
   ]
  },
  {
   "cell_type": "code",
   "execution_count": 14,
   "metadata": {},
   "outputs": [
    {
     "name": "stdout",
     "output_type": "stream",
     "text": [
      "print the first string: Hello World.\n",
      "print the first string: Hello World Again.\n"
     ]
    },
    {
     "ename": "TypeError",
     "evalue": "printme() missing 1 required positional argument: 'str2'",
     "output_type": "error",
     "traceback": [
      "\u001b[0;31m---------------------------------------------------------------------------\u001b[0m",
      "\u001b[0;31mTypeError\u001b[0m                                 Traceback (most recent call last)",
      "\u001b[0;32m<ipython-input-14-a0a3b2f86f32>\u001b[0m in \u001b[0;36m<module>\u001b[0;34m()\u001b[0m\n\u001b[1;32m      9\u001b[0m \u001b[0;31m# Now you can call printme function\u001b[0m\u001b[0;34m\u001b[0m\u001b[0;34m\u001b[0m\u001b[0m\n\u001b[1;32m     10\u001b[0m \u001b[0mprintme\u001b[0m\u001b[0;34m(\u001b[0m\u001b[0;34m'Hello World.'\u001b[0m\u001b[0;34m,\u001b[0m \u001b[0;34m'Hello World Again.'\u001b[0m\u001b[0;34m)\u001b[0m\u001b[0;34m\u001b[0m\u001b[0m\n\u001b[0;32m---> 11\u001b[0;31m \u001b[0mprintme\u001b[0m\u001b[0;34m(\u001b[0m\u001b[0;34m'Hello World.'\u001b[0m\u001b[0;34m)\u001b[0m\u001b[0;34m\u001b[0m\u001b[0m\n\u001b[0m",
      "\u001b[0;31mTypeError\u001b[0m: printme() missing 1 required positional argument: 'str2'"
     ]
    }
   ],
   "source": [
    "# Function definition is here\n",
    "def printme(str1, str2):\n",
    "    '''This prints passed strings into this function'''\n",
    "    \n",
    "    print('print the first string:', str1)\n",
    "    print('print the first string:', str2)\n",
    "    return\n",
    "\n",
    "# Now you can call printme function\n",
    "printme(\"Hello World.\", \"Hello World Again.\")\n",
    "printme(\"Hello World.\")"
   ]
  },
  {
   "cell_type": "markdown",
   "metadata": {},
   "source": [
    "**Keyword arguments**\n",
    "\n",
    "Keyword arguments are related to the function calls. When you use keyword arguments in a function call, the caller identifies the arguments by the parameter name.\n",
    "\n",
    "This allows you to skip arguments or place them out of order because the Python interpreter is able to use the keywords provided to match the values with parameters. You can also make keyword calls to the `printinfo( name, age )` function in the following ways −"
   ]
  },
  {
   "cell_type": "code",
   "execution_count": 15,
   "metadata": {},
   "outputs": [
    {
     "name": "stdout",
     "output_type": "stream",
     "text": [
      "Name: miki\n",
      "Age:  50\n"
     ]
    }
   ],
   "source": [
    "# Function definition is here\n",
    "def printinfo( name, age ):\n",
    "    '''This prints a passed info into this function'''\n",
    "    \n",
    "    print('Name:', name)\n",
    "    print('Age: ', age)\n",
    "    return\n",
    "\n",
    "# Now you can call printinfo function\n",
    "printinfo( age=50, name=\"miki\" )"
   ]
  },
  {
   "cell_type": "markdown",
   "metadata": {},
   "source": [
    "**Default arguments**\n",
    "\n",
    "A default argument is an argument that assumes a default value if a value is not provided in the function call for that argument. The following example gives an idea on default arguments, it prints default age if it is not passed −"
   ]
  },
  {
   "cell_type": "code",
   "execution_count": 13,
   "metadata": {},
   "outputs": [
    {
     "name": "stdout",
     "output_type": "stream",
     "text": [
      "Name:  miki\n",
      "Age:  50\n",
      "Name:  miki\n",
      "Age:  35\n"
     ]
    }
   ],
   "source": [
    "# Function definition is here\n",
    "def printinfo( name, age = 35 ):\n",
    "    '''This prints a passed info into this function'''\n",
    "    \n",
    "    print('Name:', name)\n",
    "    print('Age: ', age)\n",
    "    return\n",
    "\n",
    "# Now you can call printinfo function\n",
    "printinfo(age=50, name='miki')\n",
    "printinfo(name='miki')"
   ]
  },
  {
   "cell_type": "markdown",
   "metadata": {},
   "source": [
    "**Variable-length arguments**\n",
    "\n",
    "You may need to process a function for more arguments than you specified while defining the function. These arguments are called variable-length arguments and are not named in the function definition, unlike required and default arguments.\n",
    "\n",
    "Syntax for a function with non-keyword variable arguments is this −\n",
    "\n",
    "```python\n",
    "def functionname([formal_args,] *var_args_tuple):\n",
    "    '''function_docstring'''\n",
    "    function_suite\n",
    "    return [expression]\n",
    "```\n",
    "\n",
    "An asterisk (`*`) is placed before the variable name that holds the values of all nonkeyword variable arguments. This tuple remains empty if no additional arguments are specified during the function call. Following is a simple example −"
   ]
  },
  {
   "cell_type": "code",
   "execution_count": 6,
   "metadata": {},
   "outputs": [
    {
     "name": "stdout",
     "output_type": "stream",
     "text": [
      "My favorite fruit: \n",
      "apple\n",
      "\n",
      "My favorite fruit: \n",
      "apple\n",
      "I also like:\n",
      "banana\n",
      "cherry\n"
     ]
    }
   ],
   "source": [
    "# Function definition is here\n",
    "def printfruits(fruit, *fruits_tuple):\n",
    "    '''This prints the fruits I like'''\n",
    "    \n",
    "    print(\"My favorite fruit: \")\n",
    "    print(fruit)\n",
    "    if not len(fruits_tuple)==0:\n",
    "        print(\"I also like:\")\n",
    "        for fruit in fruits_tuple:\n",
    "            print(fruit)\n",
    "    return\n",
    "\n",
    "# Now you can call printinfo function\n",
    "printfruits('apple')\n",
    "print()\n",
    "printfruits('apple', 'banana', 'cherry')"
   ]
  },
  {
   "cell_type": "markdown",
   "metadata": {},
   "source": [
    "**Variable-length keyword arguments**\n",
    "\n",
    "Variable-length keyword arguments allow you to pass keyworded variable length of arguments to a function. You should use `**kwargs` if you want to handle named arguments in a function. \n",
    "\n",
    "Syntax for a function with keyword variable arguments is this −\n",
    "\n",
    "```python\n",
    "def functionname([formal_args,] **keyword_var_args_dict ):\n",
    "    \"\"\"function_docstring\"\"\"\n",
    "    function_suite\n",
    "    return [expression]\n",
    "```\n",
    "\n",
    "Two asterisk (`**`) are placed before the variable name that holds the values of all keyword variable arguments. This dictionary remains empty if no additional arguments are specified during the function call. Following is a simple example −"
   ]
  },
  {
   "cell_type": "code",
   "execution_count": 24,
   "metadata": {},
   "outputs": [
    {
     "name": "stdout",
     "output_type": "stream",
     "text": [
      "Fruit that I need: \n",
      "I need 3 apple(s).\n",
      "\n",
      "Fruit that I need: \n",
      "I need 3 apple(s).\n",
      "I need 2 banana(s).\n",
      "I need 4 cherry(s).\n"
     ]
    }
   ],
   "source": [
    "# Function definition is here\n",
    "def printfruits(apple, **fruits_dict):\n",
    "    '''This prints how many fruits that I need'''\n",
    "    \n",
    "    print(\"Fruit that I need: \")\n",
    "    print(\"I need %d apple(s).\" %apple)\n",
    "    if not len(fruits_dict)==0:\n",
    "        for fruit in fruits_dict:\n",
    "            print(\"I need %d %s(s).\" %(fruits_dict[fruit], fruit))\n",
    "    return\n",
    "\n",
    "# Now you can call printinfo function\n",
    "printfruits(3)\n",
    "print()\n",
    "printfruits(apple=3, banana=2, cherry=4)"
   ]
  },
  {
   "cell_type": "markdown",
   "metadata": {
    "collapsed": true
   },
   "source": [
    "The `return` Statement\n",
    "-------------------\n",
    "\n",
    "The statement `return [expression]` exits a function, optionally passing back an expression to the caller. A return statement with no arguments is the same as `return None`.\n",
    "\n",
    "All the above examples are not returning any value. You can return a value from a function as follows −"
   ]
  },
  {
   "cell_type": "code",
   "execution_count": 16,
   "metadata": {},
   "outputs": [
    {
     "name": "stdout",
     "output_type": "stream",
     "text": [
      "Inside the function :  610\n",
      "Outside the function :  610\n"
     ]
    }
   ],
   "source": [
    "# Function definition is here\n",
    "def cool_function(arg1, arg2, arg3):\n",
    "    '''This function does a cool operation'''\n",
    "    \n",
    "    value = arg1 + arg2 *arg3\n",
    "    print(\"Inside the function : \", value)\n",
    "    return value\n",
    "\n",
    "# Now you can call sum function\n",
    "value = cool_function(10, 20, 30);\n",
    "print(\"Outside the function : \", value)"
   ]
  },
  {
   "cell_type": "markdown",
   "metadata": {},
   "source": [
    "The Anonymous Functions\n",
    "----------------------\n",
    "\n",
    "These functions are called anonymous because they are not declared in the standard manner by using the def keyword. You can use the lambda keyword to create small anonymous functions.\n",
    "\n",
    "* Lambda forms can take any number of arguments but return just one value in the form of an expression.\n",
    "* Lambda functions have their own local namespace and cannot access variables other than those in their parameter list and those in the global namespace.\n",
    "\n",
    "The syntax of lambda functions contains only a single statement, which is as follows −\n",
    "```python\n",
    "functionname = lambda [arg1 [,arg2,.....argn]]:expression\n",
    "```"
   ]
  },
  {
   "cell_type": "code",
   "execution_count": 21,
   "metadata": {},
   "outputs": [
    {
     "name": "stdout",
     "output_type": "stream",
     "text": [
      "Value of cool operation :  7\n",
      "Value of cool operation :  26\n"
     ]
    }
   ],
   "source": [
    "# Anonymous Function definition is here\n",
    "cool_function = lambda arg1, arg2, arg3: arg1 + arg2 * arg3;\n",
    "\n",
    "# Now you can call sum as a function\n",
    "print(\"Value of cool operation : \", cool_function( 1, 2, 3 ))\n",
    "print(\"Value of cool operation : \", cool_function( 2, 4, 6 ))"
   ]
  },
  {
   "cell_type": "markdown",
   "metadata": {},
   "source": [
    "Global vs. Local variables\n",
    "------------------------\n",
    "\n",
    "Variables that are defined inside a function body have a local scope, and those defined outside have a global scope.\n",
    "\n",
    "This means that local variables can be accessed only inside the function in which they are declared, whereas global variables can be accessed throughout the program body by all functions. When you call a function, the variables declared inside it are brought into scope. Following is a simple example −"
   ]
  },
  {
   "cell_type": "code",
   "execution_count": 18,
   "metadata": {},
   "outputs": [
    {
     "name": "stdout",
     "output_type": "stream",
     "text": [
      "Inside the function local total :  610\n",
      "Outside the function global total :  0\n"
     ]
    }
   ],
   "source": [
    "# Function definition is here\n",
    "def cool_function(arg1, arg2, arg3):\n",
    "    '''This function does a cool operation'''\n",
    "    \n",
    "    value = arg1 + arg2 * arg3; # Here total is local variable.\n",
    "    print(\"Inside the function local total : \", value)\n",
    "    return value\n",
    "\n",
    "value = 0; # This is global variable.\n",
    "\n",
    "# Now you can call the cool_function\n",
    "cool_function(10, 20, 30);\n",
    "print(\"Outside the function global total : \", value)"
   ]
  },
  {
   "cell_type": "markdown",
   "metadata": {},
   "source": [
    "However, if we want to change global variables inside a function without return any value, there is another way by using the keyword `global`. Following is a simple example -"
   ]
  },
  {
   "cell_type": "code",
   "execution_count": 19,
   "metadata": {},
   "outputs": [
    {
     "name": "stdout",
     "output_type": "stream",
     "text": [
      "Inside the function local total :  610\n",
      "Outside the function global total :  610\n"
     ]
    }
   ],
   "source": [
    "# Function definition is here\n",
    "def cool_function(arg1, arg2, arg3):\n",
    "    '''This function does a cool operation and change a global variable'''\n",
    "    \n",
    "    global value\n",
    "    value = arg1 + arg2 * arg3; # Here total is local variable.\n",
    "    print(\"Inside the function local total : \", value)\n",
    "    return\n",
    "\n",
    "value = 0; # This is global variable.\n",
    "\n",
    "# Now you can call the cool_function\n",
    "cool_function(10, 20, 30);\n",
    "print(\"Outside the function global total : \", value)"
   ]
  },
  {
   "cell_type": "markdown",
   "metadata": {},
   "source": [
    "***Congrates! You are ready to move on!***"
   ]
  }
 ],
 "metadata": {
  "kernelspec": {
   "display_name": "Python 3",
   "language": "python",
   "name": "python3"
  },
  "language_info": {
   "codemirror_mode": {
    "name": "ipython",
    "version": 3
   },
   "file_extension": ".py",
   "mimetype": "text/x-python",
   "name": "python",
   "nbconvert_exporter": "python",
   "pygments_lexer": "ipython3",
   "version": "3.6.1"
  }
 },
 "nbformat": 4,
 "nbformat_minor": 2
}
