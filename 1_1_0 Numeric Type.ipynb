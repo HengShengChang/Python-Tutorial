{
 "cells": [
  {
   "cell_type": "markdown",
   "metadata": {},
   "source": [
    "Numeric Type\n",
    "=======\n",
    "\n",
    "2018/01/21\n",
    "\n",
    "Edited by Hanson Chang\n",
    "\n",
    "Reference sources: [tutorialpoints - LEARN PYTHON (Numbers)](https://www.tutorialspoint.com/python/python_numbers.htm)\n"
   ]
  },
  {
   "cell_type": "markdown",
   "metadata": {},
   "source": [
    "Python supports four different numerical types −\n",
    "\n",
    "* int (signed integers)\n",
    "* long (long integers, they can also be represented in octal and hexadecimal)\n",
    "* float (floating point real values)\n",
    "* complex (complex numbers)\n",
    "\n",
    "Note: In Python 3, type int and long have been merged together.\n",
    "\n",
    "Examples:\n",
    "\n",
    "|  int |         long          |  float  |     complex     |\n",
    "|-----:|----------------------:|--------:|----------------:|\n",
    "| `10` |      `51924361L`      |  `0.0`  |     `3.14j`     |\n",
    "|`-786`|      `-0x19323L`      | `15.20` |`-.6545+4.53e-7j`|\n",
    "| `080`|`0xDEFABCECBDAECBFBAEL`|`32.3e18`|    `3e26+0J`    |"
   ]
  },
  {
   "cell_type": "code",
   "execution_count": 2,
   "metadata": {},
   "outputs": [
    {
     "name": "stdout",
     "output_type": "stream",
     "text": [
      "(-0.6545+4.53e-07j)\n"
     ]
    }
   ],
   "source": [
    "value = -.6545+4.53e-7j\n",
    "print(value)"
   ]
  },
  {
   "cell_type": "markdown",
   "metadata": {},
   "source": [
    "Number Type Conversion\n",
    "----------------------\n",
    "\n",
    "Python converts numbers internally in an expression containing mixed types to a common type for evaluation. But sometimes, you need to coerce a number explicitly from one type to another to satisfy the requirements of an operator or function parameter.\n",
    "\n",
    "|        Function       | Description                                                               |\n",
    "|:----------------------|:--------------------------------------------------------------------------|\n",
    "|`int(x [,base])`       |Converts `x` to an integer. base specifies the base if `x` is a string.    |\n",
    "|`long(x [,base])`      |Converts `x` to a long integer. base specifies the base if `x` is a string.|\n",
    "|`float(x)`             |Converts `x` to a floating-point number.                                   |\n",
    "|`complex(real [,imag])`|Creates a complex number.                                                  |"
   ]
  },
  {
   "cell_type": "markdown",
   "metadata": {},
   "source": [
    "Mathematical Functions\n",
    "----------------------\n",
    "Python includes following functions that perform mathematical calculations. \n",
    "\n",
    "|    Function    | Description                                                                                     |\n",
    "|:---------------|:------------------------------------------------------------------------------------------------|\n",
    "|`abs(x)`        |The absolute value of `x`: the (positive) distance between `x` and `0`.                          |\n",
    "|`ceil(x)`       |The ceiling of `x`: the smallest integer not less than `x`.                                      |\n",
    "|`cmp(x,y)`      |return `-1` if `x < y`, `0` if `x == y`, or `1` if `x > y`. (not supported in Python3)           |\n",
    "|`exp(x)`        |The exponential of `x`: `e**x`.                                                                  |\n",
    "|`fabs(x)`       |The absolute value of `x` ( higher accuracy comparing to `abs(x)` ).                             |\n",
    "|`floor(x)`      |The floor of `x`: the largest integer not greater than `x`.                                      |\n",
    "|`log(x)`        |The natural logarithm of `x`, for `x > 0`.                                                       |\n",
    "|`log10(x)`      |The base-10 logarithm of `x` for `x > 0`.                                                        |\n",
    "|`max(x1,x2,...)`|The largest of its arguments: the value closest to positive infinity.                            |\n",
    "|`min(x1,x2,...)`|The smallest of its arguments: the value closest to negative infinity.                           |\n",
    "|`modf(x)`       |The fractional and integer parts of `x` in a two-item tuple. Both parts have the same sign as `x`. The integer part is returned as a float.                                                                           |\n",
    "|`pow(x,y)`      |The value of `x**y`.                                                                             |\n",
    "|`round(x[,n])`  |`x` rounded to `n` digits from the decimal point. Python rounds away from zero as a tie-breaker. |\n",
    "|`sqrt(x)`       |The square root of `x` for `x > 0`.                                                              |\n",
    "\n",
    "Some functions are not accessible directly, so we need to call this function using `math` static object."
   ]
  },
  {
   "cell_type": "code",
   "execution_count": 14,
   "metadata": {},
   "outputs": [
    {
     "name": "stdout",
     "output_type": "stream",
     "text": [
      "2\n",
      "(0.5, 2.0)\n"
     ]
    }
   ],
   "source": [
    "import math\n",
    "print(math.ceil(1.1))\n",
    "print(math.modf(2.5))"
   ]
  },
  {
   "cell_type": "markdown",
   "metadata": {},
   "source": [
    "Random Number Functions\n",
    "----------------------\n",
    "Random numbers are used for games, simulations, testing, security, and privacy applications. Python includes following functions that are commonly used.\n",
    "\n",
    "|    Function               | Description                                                                            |\n",
    "|:--------------------------|:---------------------------------------------------------------------------------------|\n",
    "|`seed([x])`                |Sets the integer starting value used in generating random numbers. Call this function before calling any other random module function. Returns None.                                                       |\n",
    "|`random()`                 |A random float `r`, such that `0` is less than or equal to `r` and `r` is less than `1`.|\n",
    "|`uniform(x, y)`            |A random float `r`, such that `x` is less than or equal to `r` and `r` is less than `y`.|\n",
    "|`randrange ([start,] stop [,step])`|A randomly selected element from `range(start, stop, step)`.                    |\n",
    "|`choice(seq)`              |A random item from a list, tuple, or string.                                            |\n",
    "|`shuffle(lst)`             |Randomizes the items of a list in place. Returns None.                                  |\n",
    "\n",
    "These functions are not accessible directly, so we need to call this function using `random` static object."
   ]
  },
  {
   "cell_type": "code",
   "execution_count": 10,
   "metadata": {},
   "outputs": [
    {
     "name": "stdout",
     "output_type": "stream",
     "text": [
      "Random number with seed 10 :  0.5714025946899135\n",
      "Random number with seed 10 :  0.5714025946899135\n",
      "2.6663413560960145\n",
      "88\n",
      "banana\n",
      "['cherry', 'banana', 'apple']\n"
     ]
    }
   ],
   "source": [
    "import random\n",
    "\n",
    "random.seed(10)\n",
    "print(\"Random number with seed 10 : \", random.random())\n",
    "\n",
    "# It will generate same random number\n",
    "random.seed(10)\n",
    "print(\"Random number with seed 10 : \", random.random())\n",
    "\n",
    "random.seed()\n",
    "print(random.uniform(2, 5))\n",
    "\n",
    "random.seed()\n",
    "print(random.randrange(3, 100, 5))  # step has to be integer\n",
    "\n",
    "sequence = [\"apple\", \"banana\", \"cherry\"]\n",
    "random.seed()\n",
    "print(random.choice(sequence))\n",
    "\n",
    "random.seed()\n",
    "random.shuffle(sequence)\n",
    "print(sequence)"
   ]
  },
  {
   "cell_type": "markdown",
   "metadata": {},
   "source": [
    "***Congrates! You are ready to move on!***"
   ]
  }
 ],
 "metadata": {
  "kernelspec": {
   "display_name": "Python 3",
   "language": "python",
   "name": "python3"
  },
  "language_info": {
   "codemirror_mode": {
    "name": "ipython",
    "version": 3
   },
   "file_extension": ".py",
   "mimetype": "text/x-python",
   "name": "python",
   "nbconvert_exporter": "python",
   "pygments_lexer": "ipython3",
   "version": "3.6.1"
  }
 },
 "nbformat": 4,
 "nbformat_minor": 2
}
