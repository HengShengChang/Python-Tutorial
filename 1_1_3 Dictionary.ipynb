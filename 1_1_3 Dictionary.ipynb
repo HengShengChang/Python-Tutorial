{
 "cells": [
  {
   "cell_type": "markdown",
   "metadata": {},
   "source": [
    "Dictionary\n",
    "=======\n",
    "\n",
    "2018/02/06\n",
    "\n",
    "Edited by Hanson Chang\n",
    "\n",
    "Reference sources: [tutorialpoints - LEARN PYTHON (Dictionary)](https://www.tutorialspoint.com/python/python_dictionary.htm)"
   ]
  },
  {
   "cell_type": "markdown",
   "metadata": {},
   "source": [
    "Each key is separated from its value by a colon (`:`), the items are separated by commas(`,`), and the whole thing is enclosed in curly braces(`{}`). An empty dictionary without any items is written with just two curly braces, like this: `{}`.\n",
    "\n",
    "Keys are unique within a dictionary while values may not be. The values of a dictionary can be of any type, but the keys must be of an immutable data type such as strings, numbers, or tuples."
   ]
  },
  {
   "cell_type": "markdown",
   "metadata": {
    "collapsed": true
   },
   "source": [
    "Accessing Values in Dictionary\n",
    "----------------------------\n",
    "\n",
    "To access dictionary elements, you can use the familiar square brackets ( `[]` ) along with the key to obtain its value. Following is a simple example −\n"
   ]
  },
  {
   "cell_type": "code",
   "execution_count": 1,
   "metadata": {},
   "outputs": [
    {
     "name": "stdout",
     "output_type": "stream",
     "text": [
      "dictionary['Name']:-  Zara\n",
      "dictionary['Age' ]:-  7\n"
     ]
    }
   ],
   "source": [
    "dictionary = {'Name': 'Zara', 'Age': 7, 'Class': 'First'}\n",
    "print(\"dictionary['Name']:- \", dictionary['Name'])\n",
    "print(\"dictionary['Age' ]:- \", dictionary['Age' ])"
   ]
  },
  {
   "cell_type": "markdown",
   "metadata": {},
   "source": [
    "Updating Dictionary\n",
    "------------------\n",
    "\n",
    "You can update a dictionary by adding a new entry or a key-value pair, modifying an existing entry, or deleting an existing entry as shown below in the simple example −"
   ]
  },
  {
   "cell_type": "code",
   "execution_count": 4,
   "metadata": {},
   "outputs": [
    {
     "name": "stdout",
     "output_type": "stream",
     "text": [
      "{'Name': 'Zara', 'Age': 7, 'Class': 'First'}\n",
      "dictionary[ 'Age'  ]:  8\n",
      "dictionary['School']:  DPS School\n"
     ]
    }
   ],
   "source": [
    "dictionary = {'Name': 'Zara', 'Age': 7, 'Class': 'First'}\n",
    "print(dictionary)\n",
    "\n",
    "\n",
    "dictionary['Age'] = 8                                # update existing entry\n",
    "print(\"dictionary[ 'Age'  ]: \", dictionary['Age'])\n",
    "\n",
    "dictionary['School'] = \"DPS School\";                 # Add new entry\n",
    "print(\"dictionary['School']: \", dictionary['School'])"
   ]
  },
  {
   "cell_type": "markdown",
   "metadata": {},
   "source": [
    "Delete Dictionary Elements\n",
    "------------------------\n",
    "\n",
    "You can either remove individual dictionary elements or clear the entire contents of a dictionary. You can also delete entire dictionary in a single operation.\n",
    "\n",
    "To explicitly remove an entire dictionary, just use the del statement. Following is a simple example −"
   ]
  },
  {
   "cell_type": "code",
   "execution_count": 8,
   "metadata": {},
   "outputs": [
    {
     "name": "stdout",
     "output_type": "stream",
     "text": [
      "{'Name': 'Zara', 'Age': 7, 'Class': 'First'}\n",
      "{'Age': 7, 'Class': 'First'}\n",
      "{}\n"
     ]
    },
    {
     "ename": "NameError",
     "evalue": "name 'dictionary' is not defined",
     "output_type": "error",
     "traceback": [
      "\u001b[0;31m---------------------------------------------------------------------------\u001b[0m",
      "\u001b[0;31mNameError\u001b[0m                                 Traceback (most recent call last)",
      "\u001b[0;32m<ipython-input-8-06189b352ebc>\u001b[0m in \u001b[0;36m<module>\u001b[0;34m()\u001b[0m\n\u001b[1;32m     12\u001b[0m \u001b[0;31m# delete entire dictionary\u001b[0m\u001b[0;34m\u001b[0m\u001b[0;34m\u001b[0m\u001b[0m\n\u001b[1;32m     13\u001b[0m \u001b[0;32mdel\u001b[0m \u001b[0mdictionary\u001b[0m\u001b[0;34m\u001b[0m\u001b[0m\n\u001b[0;32m---> 14\u001b[0;31m \u001b[0mprint\u001b[0m\u001b[0;34m(\u001b[0m\u001b[0mdictionary\u001b[0m\u001b[0;34m)\u001b[0m\u001b[0;34m\u001b[0m\u001b[0m\n\u001b[0m",
      "\u001b[0;31mNameError\u001b[0m: name 'dictionary' is not defined"
     ]
    }
   ],
   "source": [
    "dictionary = {'Name': 'Zara', 'Age': 7, 'Class': 'First'}\n",
    "print(dictionary)\n",
    "\n",
    "\n",
    "del dictionary['Name']   # remove entry with key 'Name'\n",
    "print(dictionary)\n",
    "\n",
    "dictionary.clear()       # remove all entries in dict\n",
    "print(dictionary)\n",
    "\n",
    "del dictionary           # delete entire dictionary\n",
    "print(dictionary)\n"
   ]
  },
  {
   "cell_type": "markdown",
   "metadata": {},
   "source": [
    "Properties of Dictionary Keys\n",
    "---------------------------\n",
    "\n",
    "Dictionary values have no restrictions. They can be any arbitrary Python object, either standard objects or user-defined objects. However, same is not true for the keys.\n",
    "\n",
    "There are two important points to remember about dictionary keys −\n",
    "\n",
    "1. More than one entry per key not allowed. Which means no duplicate key is allowed. When duplicate keys encountered during assignment, the last assignment wins.\n",
    "2. Keys must be immutable. Which means you can use strings, numbers or tuples as dictionary keys but something like ['key'] is not allowed."
   ]
  },
  {
   "cell_type": "code",
   "execution_count": 9,
   "metadata": {},
   "outputs": [
    {
     "name": "stdout",
     "output_type": "stream",
     "text": [
      "dictionary['Name']:\t\t  Manni\n",
      "Manni\n",
      "7\n",
      "dictionary['Name','Nickname']:\t  Zara\n"
     ]
    },
    {
     "ename": "TypeError",
     "evalue": "unhashable type: 'list'",
     "output_type": "error",
     "traceback": [
      "\u001b[0;31m---------------------------------------------------------------------------\u001b[0m",
      "\u001b[0;31mTypeError\u001b[0m                                 Traceback (most recent call last)",
      "\u001b[0;32m<ipython-input-9-bbca031afaf5>\u001b[0m in \u001b[0;36m<module>\u001b[0;34m()\u001b[0m\n\u001b[1;32m     19\u001b[0m \u001b[0;31m# (that are compared by value rather than by object identity) may not be used as keys.\u001b[0m\u001b[0;34m\u001b[0m\u001b[0;34m\u001b[0m\u001b[0m\n\u001b[1;32m     20\u001b[0m \u001b[0;34m\u001b[0m\u001b[0m\n\u001b[0;32m---> 21\u001b[0;31m \u001b[0mdictionary\u001b[0m \u001b[0;34m=\u001b[0m \u001b[0;34m{\u001b[0m\u001b[0;34m[\u001b[0m\u001b[0;34m'Name'\u001b[0m\u001b[0;34m,\u001b[0m \u001b[0;34m'Nickname'\u001b[0m\u001b[0;34m]\u001b[0m\u001b[0;34m:\u001b[0m \u001b[0;34m'Zara'\u001b[0m\u001b[0;34m,\u001b[0m \u001b[0;34m'Age'\u001b[0m\u001b[0;34m:\u001b[0m \u001b[0;36m7\u001b[0m\u001b[0;34m}\u001b[0m\u001b[0;34m\u001b[0m\u001b[0m\n\u001b[0m\u001b[1;32m     22\u001b[0m \u001b[0mprint\u001b[0m\u001b[0;34m(\u001b[0m\u001b[0;34m\"dictionary['Name', 'Nickname']: \"\u001b[0m\u001b[0;34m,\u001b[0m \u001b[0mdictionary\u001b[0m\u001b[0;34m[\u001b[0m\u001b[0;34m'Name'\u001b[0m\u001b[0;34m,\u001b[0m \u001b[0;34m'Nickname'\u001b[0m\u001b[0;34m]\u001b[0m\u001b[0;34m)\u001b[0m\u001b[0;34m\u001b[0m\u001b[0m\n",
      "\u001b[0;31mTypeError\u001b[0m: unhashable type: 'list'"
     ]
    }
   ],
   "source": [
    "# Point 1: No duplicated key is allowed.\n",
    "# Values of duplicated keys will be replaced.\n",
    "\n",
    "dictionary = {'Name': 'Zara', 'Age': 7, 'Name': 'Manni'}\n",
    "print(\"dictionary['Name']:\\t\\t \", dictionary['Name'])\n",
    "\n",
    "# Point 2: Keys must be immutable.\n",
    "# tuples are immutable -> tuples can be dictionary's keys\n",
    "\n",
    "dictionary = {('Name', 'Nickname'): 'Zara', 'Age': 7}\n",
    "print(\"dictionary['Name','Nickname']:\\t \", dictionary['Name','Nickname'])\n",
    "\n",
    "# lists are mutable -> lists can not be dictionary's keys\n",
    "# Values that are not hashable, that is, values containing lists, dictionaries or other mutable types \n",
    "# (that are compared by value rather than by object identity) may not be used as keys.\n",
    "\n",
    "dictionary = {['Name', 'Nickname']: 'Zara', 'Age': 7}\n",
    "print(\"dictionary['Name', 'Nickname']: \", dictionary['Name', 'Nickname'])"
   ]
  },
  {
   "cell_type": "markdown",
   "metadata": {},
   "source": [
    "Built-in Dictionary Functions & Methods\n",
    "------------------------------\n",
    "Python includes the following dictionary functions −\n",
    "\n",
    "|  Function         |   Description                                                                                 |\n",
    "|:------------------|:----------------------------------------------------------------------------------------------|\n",
    "|`cmp(dict1, dict2)`|Compares elements of both dict.                                                                |\n",
    "|`len(dict)`        |Gives the total length of the dictionary.                                                      |\n",
    "|`str(dict)`        |Produces a printable string representation of a dictionary.                                    |\n",
    "\n",
    "Python includes following dictionary methods - \n",
    "\n",
    "|  Method                            |   Description                                                        |\n",
    "|:-----------------------------------|:---------------------------------------------------------------------|\n",
    "|`dict.clear()`                      |Removes all elements of dictionary `dict`.                            |\n",
    "|`dict.copy()`                       |Returns a shallow copy of dictionary `dict`.                          |\n",
    "|`dict.fromkeys(seq[, value])`       |Create a new dictionary with keys from `seq` and `value` set to value.|\n",
    "|`dict.get(key)`                     |For key `key`, returns value or `None` if `key` not in dictionary.    |\n",
    "|`dict.has_key(key)`                 |Returns `true` if `key` in dictionary `dict`, `false` otherwise.      |\n",
    "|`dict.items()`                      |Returns a list of `dict`'s `(key, value)` tuple pairs.                |\n",
    "|`dict.keys()`                       |Returns a list of dictionary `dict`'s key.                            |\n",
    "|`dict.pop(key[, default])`          |If `key` is in the `dict`, remove it and return its value, else return `default`. If `default` is not given and `key` is not in the `dict`, a `KeyError` is raised.                |\n",
    "|`dict.setdefault(key, default=None)`|Similar to `get()`, but will set `dict[key]=default` if `key` is not already in `dict`.                                                                                                     |\n",
    "|`dict.update(dict2)`                |Adds dictionary `dict2`'s key-values pairs to `dict`.                 |\n",
    "|`dict.values()`                     |Returns a list of dictionary `dict`'s values.                         |"
   ]
  },
  {
   "cell_type": "markdown",
   "metadata": {},
   "source": [
    "***Congrates! You are ready to move on!***"
   ]
  }
 ],
 "metadata": {
  "kernelspec": {
   "display_name": "Python 3",
   "language": "python",
   "name": "python3"
  },
  "language_info": {
   "codemirror_mode": {
    "name": "ipython",
    "version": 3
   },
   "file_extension": ".py",
   "mimetype": "text/x-python",
   "name": "python",
   "nbconvert_exporter": "python",
   "pygments_lexer": "ipython3",
   "version": "3.6.1"
  }
 },
 "nbformat": 4,
 "nbformat_minor": 2
}
