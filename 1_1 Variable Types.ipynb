{
 "cells": [
  {
   "cell_type": "markdown",
   "metadata": {},
   "source": [
    "Variable Types\n",
    "==============\n",
    "2018/01/21\n",
    "\n",
    "Edited by Hanson Chang\n",
    "\n",
    "Reference sources: [tutorialpoints - LEARN PYTHON (Variable Syntax)](https://www.tutorialspoint.com/python/python_variable_types.htm), [Python Documentation (Built-in Types)](https://docs.python.org/2/library/stdtypes.html)"
   ]
  },
  {
   "cell_type": "markdown",
   "metadata": {},
   "source": [
    "Variables (Objects)\n",
    "-------\n",
    "Variables are created when you assign a value to them. For example −"
   ]
  },
  {
   "cell_type": "code",
   "execution_count": 1,
   "metadata": {
    "collapsed": true
   },
   "outputs": [],
   "source": [
    "var1 = 100       # An integer\n",
    "var2 = 1000.0    # A floating point\n",
    "var3 = \"John\"    # A string"
   ]
  },
  {
   "cell_type": "markdown",
   "metadata": {},
   "source": [
    "Note: Python is a compile-time type checking language and this is one of the reasons that makes Python runs slower than other language."
   ]
  },
  {
   "cell_type": "markdown",
   "metadata": {},
   "source": [
    "You can delete the reference to a number of objects by using the `del` statement. A single object or multiple objects can be deleted by using the `del` statement. For example −"
   ]
  },
  {
   "cell_type": "code",
   "execution_count": 21,
   "metadata": {
    "collapsed": true
   },
   "outputs": [],
   "source": [
    "del var1\n",
    "del var2, var3"
   ]
  },
  {
   "cell_type": "markdown",
   "metadata": {},
   "source": [
    "Multiple Assignment\n",
    "------------------\n",
    "\n",
    "Python allows you to assign a single value to several variables simultaneously or assign multiple variables with different values at the same time. For example −"
   ]
  },
  {
   "cell_type": "code",
   "execution_count": 26,
   "metadata": {
    "collapsed": true
   },
   "outputs": [],
   "source": [
    "a = b = c = 0\n",
    "A, B, C = 1, 2, \"John\""
   ]
  },
  {
   "cell_type": "markdown",
   "metadata": {},
   "source": [
    "Standard Data Types\n",
    "------------------\n",
    "Python has four standard data types −\n",
    "\n",
    "* **Numeric Type**\n",
    "* Sequence Type\n",
    "    * **string**\n",
    "    * **list**\n",
    "    * tuple\n",
    "    * bytes and bytearray\n",
    "    * set and frozenset\n",
    "* Mapping Type\n",
    "    * **dictionary**\n",
    "* Boolean"
   ]
  },
  {
   "cell_type": "markdown",
   "metadata": {},
   "source": [
    "Numeric Type\n",
    "-------\n",
    "Python supports four different numerical types −\n",
    "\n",
    "* int (signed integers)\n",
    "* long (long integers, they can also be represented in octal and hexadecimal)\n",
    "* float (floating point real values)\n",
    "* complex (complex numbers)\n",
    "\n",
    "Note: In Python 3, type int and long have been merged together.\n",
    "\n",
    "Examples:\n",
    "\n",
    "|  int |         long          |  float  |     complex     |\n",
    "|-----:|----------------------:|--------:|----------------:|\n",
    "| `10` |      `51924361L`      |  `0.0`  |     `3.14j`     |\n",
    "|`-786`|      `-0x19323L`      | `15.20` |`-.6545+4.53e-7j`|\n",
    "| `080`|`0xDEFABCECBDAECBFBAEL`|`32.3e18`|    `3e26+0J`    |"
   ]
  },
  {
   "cell_type": "code",
   "execution_count": 47,
   "metadata": {},
   "outputs": [
    {
     "name": "stdout",
     "output_type": "stream",
     "text": [
      "(-0.6545+4.53e-07j)\n"
     ]
    }
   ],
   "source": [
    "value = -.6545+4.53e-7j\n",
    "print(value)"
   ]
  },
  {
   "cell_type": "markdown",
   "metadata": {},
   "source": [
    "Strings\n",
    "-------\n",
    "Strings in Python are identified as a continuous set of characters represented in the quotation marks. Python allows for either pairs of single or double quotes. Subsets of strings can be taken using the slice operator ( `[]` and `[:]` ) with indexes starting at 0 in the beginning of the string and working their way from -1 at the end.\n",
    "\n",
    "The plus (`+`) sign is the string concatenation operator and the asterisk (`*`) is the repetition operator. For example −\n"
   ]
  },
  {
   "cell_type": "code",
   "execution_count": 10,
   "metadata": {
    "scrolled": true
   },
   "outputs": [
    {
     "name": "stdout",
     "output_type": "stream",
     "text": [
      "Hello World!\n",
      "H\n",
      "llo W\n",
      "llo World!\n",
      "llo Worl\n",
      "Hello World!Hello World!\n",
      "Hello World!TEST\n"
     ]
    }
   ],
   "source": [
    "string = 'Hello World!'\n",
    "\n",
    "print(string)          # Prints complete string\n",
    "print(string[0])       # Prints first character of the string\n",
    "print(string[2:7])     # Prints characters starting from 3rd to 5th\n",
    "print(string[2:])      # Prints string starting from 3rd character to the end\n",
    "print(string[2:-2])    # Prints characters starting from 3rd in the begin and end at 2nd from the end\n",
    "print(string * 2)      # Prints string two times\n",
    "print(string + 'TEST') # Prints concatenated string"
   ]
  },
  {
   "cell_type": "markdown",
   "metadata": {},
   "source": [
    "Lists\n",
    "-----\n",
    "Lists are the most versatile of Python's compound data types. A list contains items separated by commas and enclosed within square brackets (`[]`). To some extent, lists are similar to arrays in C. One difference between them is that all the items belonging to a list can be of different data type.\n",
    "\n",
    "The values stored in a list can be accessed using the slice operator (`[]` and `[:]`) with indexes starting at 0 in the beginning of the list and working their way to end -1. The plus (`+`) sign is the list concatenation operator, and the asterisk (`*`) is the repetition operator. For example −\n"
   ]
  },
  {
   "cell_type": "code",
   "execution_count": 2,
   "metadata": {},
   "outputs": [
    {
     "name": "stdout",
     "output_type": "stream",
     "text": [
      "['abcd', 786, 2.23, 'john', 70.2]\n",
      "abcd\n",
      "[786, 2.23]\n",
      "[2.23, 'john', 70.2]\n",
      "[123, 'john', 123, 'john']\n",
      "['abcd', 786, 2.23, 'john', 70.2, 123, 'john']\n",
      "john\n"
     ]
    }
   ],
   "source": [
    "main_list = ['abcd', 786 , 2.23, 'john', 70.2]\n",
    "tiny_list = [123, 'john']\n",
    "multilevel_list = [main_list, tiny_list]\n",
    "\n",
    "print(main_list)              # Prints complete list\n",
    "print(main_list[0])           # Prints first element of the list\n",
    "print(main_list[1:3])         # Prints elements starting from 2nd till 3rd \n",
    "print(main_list[2:])          # Prints elements starting from 3rd element\n",
    "print(tiny_list * 2)          # Prints list two times\n",
    "print(main_list + tiny_list)  # Prints concatenated lists\n",
    "print(multilevel_list[1][1])  # Prints an element inside a multi-level list"
   ]
  },
  {
   "cell_type": "markdown",
   "metadata": {},
   "source": [
    "Tuples\n",
    "------\n",
    "A tuple is another sequence data type that is similar to the list. A tuple consists of a number of values separated by commas. Unlike lists, however, tuples are enclosed within parentheses.\n",
    "\n",
    "The main differences between lists and tuples are: Lists are enclosed in brackets (`[]`) and their elements and size can be changed, while tuples are enclosed in parentheses (`()`) and cannot be updated. Tuples can be thought of as read-only lists. For example −\n"
   ]
  },
  {
   "cell_type": "code",
   "execution_count": 47,
   "metadata": {},
   "outputs": [
    {
     "name": "stdout",
     "output_type": "stream",
     "text": [
      "('abcd', 786, 2.23, 'john', 70.2)\n",
      "abcd\n",
      "(786, 2.23)\n",
      "(2.23, 'john', 70.2)\n",
      "(123, 'john', 123, 'john')\n",
      "('abcd', 786, 2.23, 'john', 70.2, 123, 'john')\n",
      "john\n"
     ]
    }
   ],
   "source": [
    "main_tuple = ('abcd', 786 , 2.23, 'john', 70.2)\n",
    "tiny_tuple = (123, 'john')\n",
    "multilevel_tuple = (main_tuple, tiny_tuple)\n",
    "\n",
    "print(main_tuple)              # Prints complete tuple\n",
    "print(main_tuple[0])           # Prints first element of the tuple\n",
    "print(main_tuple[1:3])         # Prints elements starting from 2nd till 3rd \n",
    "print(main_tuple[2:])          # Prints elements starting from 3rd element\n",
    "print(tiny_tuple * 2)          # Prints list two times\n",
    "print(main_tuple + tiny_tuple) # Prints concatenated tuples\n",
    "print(multilevel_tuple[1][1])  # Prints an element inside a multi-level tuple"
   ]
  },
  {
   "cell_type": "markdown",
   "metadata": {},
   "source": [
    "The following code is invalid with tuple, because we attempted to update a tuple, which is not allowed. Similar case is possible with lists −"
   ]
  },
  {
   "cell_type": "code",
   "execution_count": 48,
   "metadata": {},
   "outputs": [
    {
     "ename": "TypeError",
     "evalue": "'tuple' object does not support item assignment",
     "output_type": "error",
     "traceback": [
      "\u001b[0;31m---------------------------------------------------------------------------\u001b[0m",
      "\u001b[0;31mTypeError\u001b[0m                                 Traceback (most recent call last)",
      "\u001b[0;32m<ipython-input-48-d7521f786ceb>\u001b[0m in \u001b[0;36m<module>\u001b[0;34m()\u001b[0m\n\u001b[1;32m      1\u001b[0m \u001b[0mtuple1\u001b[0m \u001b[0;34m=\u001b[0m \u001b[0;34m(\u001b[0m \u001b[0;34m'abcd'\u001b[0m\u001b[0;34m,\u001b[0m \u001b[0;36m786\u001b[0m \u001b[0;34m,\u001b[0m \u001b[0;36m2.23\u001b[0m\u001b[0;34m,\u001b[0m \u001b[0;34m'john'\u001b[0m\u001b[0;34m,\u001b[0m \u001b[0;36m70.2\u001b[0m  \u001b[0;34m)\u001b[0m\u001b[0;34m\u001b[0m\u001b[0m\n\u001b[1;32m      2\u001b[0m \u001b[0mlist1\u001b[0m \u001b[0;34m=\u001b[0m \u001b[0;34m[\u001b[0m \u001b[0;34m'abcd'\u001b[0m\u001b[0;34m,\u001b[0m \u001b[0;36m786\u001b[0m \u001b[0;34m,\u001b[0m \u001b[0;36m2.23\u001b[0m\u001b[0;34m,\u001b[0m \u001b[0;34m'john'\u001b[0m\u001b[0;34m,\u001b[0m \u001b[0;36m70.2\u001b[0m  \u001b[0;34m]\u001b[0m\u001b[0;34m\u001b[0m\u001b[0m\n\u001b[0;32m----> 3\u001b[0;31m \u001b[0mtuple1\u001b[0m\u001b[0;34m[\u001b[0m\u001b[0;36m2\u001b[0m\u001b[0;34m]\u001b[0m \u001b[0;34m=\u001b[0m \u001b[0;36m1000\u001b[0m    \u001b[0;31m# Invalid syntax with tuple\u001b[0m\u001b[0;34m\u001b[0m\u001b[0m\n\u001b[0m\u001b[1;32m      4\u001b[0m \u001b[0mlist1\u001b[0m\u001b[0;34m[\u001b[0m\u001b[0;36m2\u001b[0m\u001b[0;34m]\u001b[0m \u001b[0;34m=\u001b[0m \u001b[0;36m1000\u001b[0m     \u001b[0;31m# Valid syntax with list\u001b[0m\u001b[0;34m\u001b[0m\u001b[0m\n",
      "\u001b[0;31mTypeError\u001b[0m: 'tuple' object does not support item assignment"
     ]
    }
   ],
   "source": [
    "tuple1 = ( 'abcd', 786 , 2.23, 'john', 70.2  )\n",
    "list1 = [ 'abcd', 786 , 2.23, 'john', 70.2  ]\n",
    "tuple1[2] = 1000    # Invalid syntax with tuple\n",
    "list1[2] = 1000     # Valid syntax with list"
   ]
  },
  {
   "cell_type": "markdown",
   "metadata": {},
   "source": [
    "Bytes and Bytearray\n",
    "-------\n",
    "Bytes and bytearray objects, being “strings of bytes”, have all methods found on strings, with the exception of `encode()`, `format()` and `isidentifier()`, which do not make sense with these types. For converting the objects to strings, they have a `decode()` method.\n",
    "\n",
    "The difference between bytes and bytearray is that bytes, like strings, is an immutable sequence of bytes, whereas bytearray is mutable."
   ]
  },
  {
   "cell_type": "code",
   "execution_count": 3,
   "metadata": {},
   "outputs": [
    {
     "name": "stdout",
     "output_type": "stream",
     "text": [
      "<class 'bytes'> \t b'python'\n",
      "<class 'bytearray'> \t bytearray(b'python')\n",
      "<class 'str'> \t\t python\n",
      "<class 'bytes'> \t b'python'\n",
      "\n",
      "byte_array.pop() = 110\n"
     ]
    },
    {
     "ename": "AttributeError",
     "evalue": "'bytes' object has no attribute 'pop'",
     "output_type": "error",
     "traceback": [
      "\u001b[0;31m---------------------------------------------------------------------------\u001b[0m",
      "\u001b[0;31mAttributeError\u001b[0m                            Traceback (most recent call last)",
      "\u001b[0;32m<ipython-input-3-4c37414e3279>\u001b[0m in \u001b[0;36m<module>\u001b[0;34m()\u001b[0m\n\u001b[1;32m      8\u001b[0m \u001b[0;34m\u001b[0m\u001b[0m\n\u001b[1;32m      9\u001b[0m \u001b[0mprint\u001b[0m\u001b[0;34m(\u001b[0m\u001b[0;34m'\\nbyte_array.pop() ='\u001b[0m\u001b[0;34m,\u001b[0m \u001b[0mbyte_array\u001b[0m\u001b[0;34m.\u001b[0m\u001b[0mpop\u001b[0m\u001b[0;34m(\u001b[0m\u001b[0;34m)\u001b[0m\u001b[0;34m)\u001b[0m   \u001b[0;31m# bytearray is mutable\u001b[0m\u001b[0;34m\u001b[0m\u001b[0m\n\u001b[0;32m---> 10\u001b[0;31m \u001b[0mprint\u001b[0m\u001b[0;34m(\u001b[0m\u001b[0;34m'\\nbyte.pop() ='\u001b[0m\u001b[0;34m,\u001b[0m \u001b[0mbyte\u001b[0m\u001b[0;34m.\u001b[0m\u001b[0mpop\u001b[0m\u001b[0;34m(\u001b[0m\u001b[0;34m)\u001b[0m\u001b[0;34m)\u001b[0m               \u001b[0;31m# bytes is immutable\u001b[0m\u001b[0;34m\u001b[0m\u001b[0m\n\u001b[0m",
      "\u001b[0;31mAttributeError\u001b[0m: 'bytes' object has no attribute 'pop'"
     ]
    }
   ],
   "source": [
    "byte = b\"python\"\n",
    "byte_array = bytearray(byte)\n",
    "string = byte.decode()\n",
    "print(type(byte), '\\t', byte)\n",
    "print(type(byte_array), '\\t', byte_array)\n",
    "print(type(string), '\\t\\t', string)\n",
    "print(type(string.encode()), '\\t', string.encode())\n",
    "\n",
    "print('\\nbyte_array.pop() :-', byte_array.pop())   # bytearray is mutable\n",
    "print('        byte.pop() :-', byte.pop())               # bytes is immutable"
   ]
  },
  {
   "cell_type": "markdown",
   "metadata": {},
   "source": [
    "Set and Frozenset\n",
    "-------\n",
    "A set object is an unordered collection of distinct hashable objects. Common uses include membership testing, removing duplicates from a sequence, and computing mathematical operations such as intersection(`&`), union(`|`), difference(`-`), and symmetric difference(`^`).\n",
    "\n",
    "The set type is mutable — the contents can be changed using methods like `add()` and `remove()`. Since it is mutable, it has no hash value and cannot be used as either a dictionary key or as an element of another set. The frozenset type is immutable and hashable — its contents cannot be altered after it is created; it can therefore be used as a dictionary key or as an element of another set.\n",
    "\n",
    "Being an unordered collection, sets do not record element position or order of insertion. Accordingly, sets do not support indexing, slicing, or other sequence-like behavior.\n",
    "\n",
    "There are currently two built-in set types, set and frozenset. The set type is mutable — the contents can be changed using methods like `add()` and `remove()`. Since it is mutable, it has no hash value and cannot be used as either a dictionary key or as an element of another set. The frozenset type is immutable and hashable — its contents cannot be altered after it is created; it can therefore be used as a dictionary key or as an element of another set.\n"
   ]
  },
  {
   "cell_type": "code",
   "execution_count": 5,
   "metadata": {},
   "outputs": [
    {
     "name": "stdout",
     "output_type": "stream",
     "text": [
      "seta =\t\t {33, 66, 11, 44, 22, 55}\n",
      "setb =\t\t {33, 34, 38, 22, 25, 26}\n",
      "seta & setb :-\t {33, 22}\n",
      "seta | setb :-\t {33, 66, 34, 38, 11, 44, 22, 55, 25, 26}\n",
      "seta - setb :-\t {66, 11, 44, 55}\n",
      "seta ^ setb :-\t {34, 66, 38, 11, 44, 55, 25, 26}\n",
      "updated seta :-\t {33, 66, 11, 44, 77, 22, 55}\n",
      "updated setb :-\t {33, 34, 38, 22, 26}\n",
      "setc =\t\t {33, 66, 34, 38, 11, 44, 77, 22, 55, 26}\n",
      "setc.pop() :-\t 33\n",
      "updated setc :-\t {66, 34, 38, 11, 44, 77, 22, 55, 26}\n",
      "frozensetc =\t frozenset({66, 11, 77, 22, 26, 34, 38, 44, 55})\n"
     ]
    },
    {
     "ename": "AttributeError",
     "evalue": "'frozenset' object has no attribute 'pop'",
     "output_type": "error",
     "traceback": [
      "\u001b[0;31m---------------------------------------------------------------------------\u001b[0m",
      "\u001b[0;31mAttributeError\u001b[0m                            Traceback (most recent call last)",
      "\u001b[0;32m<ipython-input-5-541acc5f85d1>\u001b[0m in \u001b[0;36m<module>\u001b[0;34m()\u001b[0m\n\u001b[1;32m     24\u001b[0m \u001b[0mfrozensetc\u001b[0m \u001b[0;34m=\u001b[0m \u001b[0mfrozenset\u001b[0m\u001b[0;34m(\u001b[0m\u001b[0msetc\u001b[0m\u001b[0;34m)\u001b[0m\u001b[0;34m\u001b[0m\u001b[0m\n\u001b[1;32m     25\u001b[0m \u001b[0mprint\u001b[0m\u001b[0;34m(\u001b[0m\u001b[0;34m'frozensetc =\\t'\u001b[0m\u001b[0;34m,\u001b[0m \u001b[0mfrozensetc\u001b[0m\u001b[0;34m)\u001b[0m\u001b[0;34m\u001b[0m\u001b[0m\n\u001b[0;32m---> 26\u001b[0;31m \u001b[0mprint\u001b[0m\u001b[0;34m(\u001b[0m\u001b[0;34m'frozensetc.pop() :-\\t'\u001b[0m\u001b[0;34m,\u001b[0m \u001b[0mfrozensetc\u001b[0m\u001b[0;34m.\u001b[0m\u001b[0mpop\u001b[0m\u001b[0;34m(\u001b[0m\u001b[0;34m)\u001b[0m\u001b[0;34m)\u001b[0m   \u001b[0;31m# frozenset is immutable\u001b[0m\u001b[0;34m\u001b[0m\u001b[0m\n\u001b[0m",
      "\u001b[0;31mAttributeError\u001b[0m: 'frozenset' object has no attribute 'pop'"
     ]
    }
   ],
   "source": [
    "lista = [11, 22, 33, 44, 11, 55, 22, 66]\n",
    "seta = set(lista)\n",
    "print('seta =\\t\\t', seta)\n",
    "\n",
    "setb = {22, 34, 26, 33, 38, 25}\n",
    "print('setb =\\t\\t', setb)\n",
    "\n",
    "print('seta & setb :-\\t', seta & setb)\n",
    "print('seta | setb :-\\t', seta | setb)\n",
    "print('seta - setb :-\\t', seta - setb)\n",
    "print('seta ^ setb :-\\t', seta ^ setb)\n",
    "\n",
    "seta.add(77)\n",
    "print('updated seta :-\\t', seta)\n",
    "\n",
    "setb.remove(25)\n",
    "print('updated setb :-\\t', setb)\n",
    "\n",
    "setc = seta | setb\n",
    "print('setc =\\t\\t', setc)\n",
    "print('setc.pop() :-\\t', setc.pop())               # set is mutable\n",
    "print('updated setc :-\\t', setc)\n",
    "\n",
    "frozensetc = frozenset(setc)\n",
    "print('frozensetc =\\t', frozensetc)\n",
    "print('frozensetc.pop() :-\\t', frozensetc.pop())   # frozenset is immutable"
   ]
  },
  {
   "cell_type": "markdown",
   "metadata": {},
   "source": [
    "Dictionary\n",
    "---------\n",
    "Python's dictionaries are kind of hash table type. They work like associative arrays or hashes found in Perl and consist of key-value pairs. A dictionary key can be almost any Python type, but are usually numbers or strings. Values, on the other hand, can be any arbitrary Python object.\n",
    "\n",
    "Dictionaries have no concept of order among elements. It is incorrect to say that the elements are \"out of order\"; they are simply unordered.\n",
    "\n",
    "Dictionaries are enclosed by curly braces (`{}`) and values can be assigned and accessed using square braces (`[]`). For example −"
   ]
  },
  {
   "cell_type": "code",
   "execution_count": 4,
   "metadata": {},
   "outputs": [
    {
     "name": "stdout",
     "output_type": "stream",
     "text": [
      "This is one\n",
      "This is two\n",
      "{'name': 'john', 'code': 6734, 'dept': 'sales'}\n",
      "dict_keys(['name', 'code', 'dept'])\n",
      "dict_values(['john', 6734, 'sales'])\n"
     ]
    }
   ],
   "source": [
    "dictionary = {}\n",
    "dictionary['one'] = \"This is one\"\n",
    "dictionary[2] = \"This is two\"\n",
    "\n",
    "tiny_dictionary = {'name': 'john','code': 6734, 'dept': 'sales'}\n",
    "\n",
    "\n",
    "print(dictionary['one'])        # Prints value for 'one' key\n",
    "print(dictionary[2])            # Prints value for 2 key\n",
    "print(tiny_dictionary)          # Prints complete dictionary\n",
    "print(tiny_dictionary.keys())   # Prints all the keys\n",
    "print(tiny_dictionary.values()) # Prints all the values"
   ]
  },
  {
   "cell_type": "markdown",
   "metadata": {},
   "source": [
    "Data Type Conversion\n",
    "-------------------\n",
    "\n",
    "Sometimes, you may need to perform conversions between the built-in types. To convert between types, you simply use the type name as a function.\n",
    "\n",
    "There are several built-in functions to perform conversion from one data type to another. These functions return a new object representing the converted value.\n",
    "\n",
    "|        Function       | Description                                                               |\n",
    "|:----------------------|:--------------------------------------------------------------------------|\n",
    "|`int(x [,base])`       |Converts `x` to an integer. base specifies the base if `x` is a string.    |\n",
    "|`long(x [,base])`      |Converts `x` to a long integer. base specifies the base if `x` is a string.|\n",
    "|`float(x)`             |Converts `x` to a floating-point number.                                   |\n",
    "|`complex(real [,imag])`|Creates a complex number.                                                  |\n",
    "|`str(x)`               |Converts object `x` to a string representation.                            |\n",
    "|`eval(str)`            |Evaluates a string and returns an object.                                  |\n",
    "|`tuple(s)`             |Converts `s` to a tuple.                                                   |\n",
    "|`list(s)`              |Converts `s` to a list.                                                    |\n",
    "|`dict(d)`              |Creates a dictionary. `d` must be a sequence of `(key, value)` tuples.     |\n",
    "|`chr(x)`               |Converts an integer to a character.                                        |\n",
    "|`unichr(x)`            |Converts an integer to a Unicode character.                                |\n",
    "|`ord(x)`               |Converts a single character to its integer value. (ASCII code)             |\n",
    "|`hex(x)`               |Converts an integer to a hexadecimal string.                               |\n",
    "|`oct(x)`               |Converts an integer to an octal string.                                    |\n"
   ]
  },
  {
   "cell_type": "code",
   "execution_count": 52,
   "metadata": {},
   "outputs": [
    {
     "name": "stdout",
     "output_type": "stream",
     "text": [
      "(10+1j)\n"
     ]
    }
   ],
   "source": [
    "a = 10+1j\n",
    "line = 'print(a)'\n",
    "eval(line)"
   ]
  },
  {
   "cell_type": "markdown",
   "metadata": {},
   "source": [
    "Boolean - Truth Value Testing\n",
    "------------------\n",
    "\n",
    "Any object can be tested for truth value, for use in `if` or `while` condition or as operand of the Boolean operations below. \n",
    "\n",
    "The following values are considered `False`:\n",
    "* None\n",
    "* `False`\n",
    "* zero of any numeric type, for example, `0`, `0L`, `0.0`, `0j`.\n",
    "* any empty sequence, for example, `''`, `()`, `[]`.\n",
    "* any empty mapping, for example, `{}`.\n",
    "* instances of user-defined classes, if the class defines a `__nonzero__()` or `__len__()` method, when that method returns the integer zero or bool value `False`.\n",
    "\n",
    "All other values are considered `True` — so objects of many types are always `True`."
   ]
  },
  {
   "cell_type": "markdown",
   "metadata": {},
   "source": [
    "***Congrates! You are ready to move on!***"
   ]
  }
 ],
 "metadata": {
  "kernelspec": {
   "display_name": "Python 3",
   "language": "python",
   "name": "python3"
  },
  "language_info": {
   "codemirror_mode": {
    "name": "ipython",
    "version": 3
   },
   "file_extension": ".py",
   "mimetype": "text/x-python",
   "name": "python",
   "nbconvert_exporter": "python",
   "pygments_lexer": "ipython3",
   "version": "3.6.1"
  }
 },
 "nbformat": 4,
 "nbformat_minor": 2
}
