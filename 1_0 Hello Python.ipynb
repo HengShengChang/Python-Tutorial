{
 "cells": [
  {
   "cell_type": "markdown",
   "metadata": {},
   "source": [
    "Hello Python\n",
    "===========\n",
    "\n",
    "- 2018/01/20 - file created\n",
    "- 2018/02/12 - update style guides\n",
    "\n",
    "Edited by Hanson Chang\n",
    "\n",
    "Reference source: [tutorialspoint - LEARN PYTHON (Basic Syntax)](https://www.tutorialspoint.com/python/python_basic_syntax.htm)\n",
    "\n",
    "Note: This tutorial follows (mostly >.<) the style guides of [PEP8](https://www.python.org/dev/peps/pep-0008/) and [Google Python Style Guide](https://google.github.io/styleguide/pyguide.html)."
   ]
  },
  {
   "cell_type": "code",
   "execution_count": 2,
   "metadata": {},
   "outputs": [
    {
     "name": "stdout",
     "output_type": "stream",
     "text": [
      "Hello Python!\n"
     ]
    }
   ],
   "source": [
    "print(\"Hello Python!\")"
   ]
  },
  {
   "cell_type": "markdown",
   "metadata": {},
   "source": [
    "Python Identifiers\n",
    "---------------------\n",
    "1. Case Sensitive\n",
    "2. @, $ and % are not allowed\n",
    "3. Naming Conventions:\n",
    "    * Class names start with an uppercase letter. All other identifiers start with a lowercase letter.\n",
    "    * Starting an identifier with a single leading underscore ( `_*` ) indicates that the identifier is local (or a protected idnetifier).\n",
    "    * Starting an identifier with two leading underscores ( `__*` ) indicates a private identifier.\n",
    "    * If the identifier also ends with two trailing underscores ( `__*__` ), the identifier is a language-defined special name.\n",
    "4. Reserved Words:\n",
    "\n",
    "|   |      |     |     |        |   |   |    |    |      |    |     |       |   |    |      |\n",
    "|:---:|:------:|:-----:|:-----:|:--------:|:---:|:---:|:----:|:----:|:------:|:----:|:-----:|:-------:|:---:|:----:|:------:|\n",
    "|`and`|`as`|`assert`|`break`|`class`|`continue`|`def`|`del`|`elif`|`else`|`except`|`exec`|`False`|`finally`|`for`|`from`|`global`|\n",
    "|`if`|`import`|`in`|`is`|`lambda`|`None`|`not`|`or`|`pass`|`print`|`raise`|`return`|`True`|`try`|`while`|`with`|`yield`|"
   ]
  },
  {
   "cell_type": "markdown",
   "metadata": {},
   "source": [
    "Lines and Indentation\n",
    "--------------------\n",
    "Python provides no braces to indicate blocks of code for class and function definitions or flow control. Blocks of code are denoted by line indentation, which is rigidly enforced. For example:"
   ]
  },
  {
   "cell_type": "code",
   "execution_count": 1,
   "metadata": {},
   "outputs": [
    {
     "name": "stdout",
     "output_type": "stream",
     "text": [
      "True\n"
     ]
    }
   ],
   "source": [
    "if True:\n",
    "    print(\"True\")\n",
    "else:\n",
    "    print(\"False\")"
   ]
  },
  {
   "cell_type": "markdown",
   "metadata": {},
   "source": [
    "Multi-Line Statements\n",
    "--------------------\n",
    "Statements in Python typically end with a new line. Python does, however, allow the use of the line continuation character (\\) to denote that the line should continue. For example −"
   ]
  },
  {
   "cell_type": "code",
   "execution_count": 12,
   "metadata": {},
   "outputs": [
    {
     "name": "stdout",
     "output_type": "stream",
     "text": [
      "item_one, item_two, and item_three\n"
     ]
    }
   ],
   "source": [
    "items = \"item_one, \" + \\\n",
    "        \"item_two, \" + \\\n",
    "        \"and item_three\"\n",
    "print(items)"
   ]
  },
  {
   "cell_type": "markdown",
   "metadata": {},
   "source": [
    "In fact, statements contained within the [ ], { }, or ( ) brackets do not need to use the line continuation character. For example −"
   ]
  },
  {
   "cell_type": "code",
   "execution_count": 13,
   "metadata": {},
   "outputs": [
    {
     "name": "stdout",
     "output_type": "stream",
     "text": [
      "['Monday', 'Tuesday', 'Wednesday', 'Thursday', 'Friday']\n"
     ]
    }
   ],
   "source": [
    "days = ['Monday', 'Tuesday', 'Wednesday',\n",
    "        'Thursday', 'Friday']\n",
    "print(days)"
   ]
  },
  {
   "cell_type": "markdown",
   "metadata": {},
   "source": [
    "Quotation\n",
    "--------------------\n",
    "In Python, single-quoted strings (`' '`) and double-quoted strings (`\" \"`) are the same. There is no recommendation for this. Pick a rule and stick to it.\n",
    "\n",
    "For triple-quoted strings (`\"\"\" \"\"\"`), always use double quote characters to be consistent with the docstring convention in [PEP 257](https://www.python.org/dev/peps/pep-0257/).\n",
    "\n",
    "In conventions, single ('), double (\") and triple (\"\"\") quotes are used to denote words, sentences and paragraphs. For example - \n"
   ]
  },
  {
   "cell_type": "code",
   "execution_count": 4,
   "metadata": {},
   "outputs": [
    {
     "name": "stdout",
     "output_type": "stream",
     "text": [
      "word This is a sentence. This is a paragraph. It is made up of multiple lines and sentences.\n",
      "Note that, in conventions, maximum line length is 80 characters.\n"
     ]
    }
   ],
   "source": [
    "word = 'word'\n",
    "sentence = \"This is a sentence.\"\n",
    "paragraph = \"\"\"This is a paragraph. It is made up of multiple lines and sentences.\n",
    "Note that, in conventions, maximum line length is 80 characters.\"\"\"\n",
    "\n",
    "print(word, sentence, paragraph)"
   ]
  },
  {
   "cell_type": "markdown",
   "metadata": {},
   "source": [
    "If you want to print quotes, add a slash at the begin of each quote."
   ]
  },
  {
   "cell_type": "code",
   "execution_count": 22,
   "metadata": {},
   "outputs": [
    {
     "name": "stdout",
     "output_type": "stream",
     "text": [
      "Print a single ' or \".\n"
     ]
    }
   ],
   "source": [
    "print(\"Print a single \\' or \\\".\")"
   ]
  },
  {
   "cell_type": "markdown",
   "metadata": {},
   "source": [
    "In convection, however, when a string contains single or double quote characters, coder will normally use the other one to avoid backslashes (`\\`) in the string. It improves readability."
   ]
  },
  {
   "cell_type": "markdown",
   "metadata": {},
   "source": [
    "Comments\n",
    "-----------------\n",
    "A hash sign (`#`) or triple quotes (`'''`) that is not inside a string literal begins a comment. All characters after the `#` and up to the end of the physical line or between two triple quotes `'''  '''` are part of the comment and the Python interpreter ignores them. For example,"
   ]
  },
  {
   "cell_type": "code",
   "execution_count": 3,
   "metadata": {},
   "outputs": [
    {
     "name": "stdout",
     "output_type": "stream",
     "text": [
      "Inline comments are usually unnecessary andin fact distracting if they state the obvious.\n"
     ]
    }
   ],
   "source": [
    "# This is called a block comment.\n",
    "# Because there are multiple lines of comments here.\n",
    "# Make sure these kind of comments are at least one line away from the code.\n",
    "\n",
    "print(\"Inline comments are usually unnecessary and\" \\\n",
    "      \"in fact distracting if they state the obvious.\") # This is called a inline comment! "
   ]
  },
  {
   "cell_type": "code",
   "execution_count": 5,
   "metadata": {},
   "outputs": [
    {
     "name": "stdout",
     "output_type": "stream",
     "text": [
      "These are not comments,\n",
      "though lines are also between two triple quotes.\n"
     ]
    }
   ],
   "source": [
    "'''This type of comments is called as \"Documentation Strings\" (a.k.a. \"docstrings\").\n",
    "\n",
    "Write docstrings for all public modules, functions, classes, and methods. \n",
    "Docstrings are not necessary for non-public methods, but you should have \n",
    "a comment that describes what the method does. This comment should appear\n",
    "after the def line. Also, make sure these kind of comments are at least \n",
    "one line away from the code.\n",
    "'''\n",
    "\n",
    "print('''These are not comments,\n",
    "though lines are also between two triple quotes.''')"
   ]
  },
  {
   "cell_type": "markdown",
   "metadata": {},
   "source": [
    "***Congrates! You are ready to move on!***"
   ]
  }
 ],
 "metadata": {
  "kernelspec": {
   "display_name": "Python 3",
   "language": "python",
   "name": "python3"
  },
  "language_info": {
   "codemirror_mode": {
    "name": "ipython",
    "version": 3
   },
   "file_extension": ".py",
   "mimetype": "text/x-python",
   "name": "python",
   "nbconvert_exporter": "python",
   "pygments_lexer": "ipython3",
   "version": "3.6.1"
  }
 },
 "nbformat": 4,
 "nbformat_minor": 2
}
