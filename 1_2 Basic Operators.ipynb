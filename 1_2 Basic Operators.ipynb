{
 "cells": [
  {
   "cell_type": "markdown",
   "metadata": {},
   "source": [
    "Basic Operators\n",
    "===============\n",
    "2018/01/21\n",
    "\n",
    "Edited by Hanson Chang\n",
    "\n",
    "Reference sources: [tutorialpoints - LEARN PYTHON (Basic Operators)](https://www.tutorialspoint.com/python/python_basic_operators.htm),  [Python Documentation (Objects, Values and Types)](https://docs.python.org/3/reference/datamodel.html#objects-values-and-types)"
   ]
  },
  {
   "cell_type": "markdown",
   "metadata": {},
   "source": [
    "Types of Operator\n",
    "----------------\n",
    "Python language supports the following types of operators -\n",
    "\n",
    "* **Arithmetic Operators**\n",
    "* **Comparison (Relational) Operators**\n",
    "* **Assignment Operators**\n",
    "* **Logical Operators**\n",
    "* **Bitwise Operators**\n",
    "* **Membership Operators**\n",
    "* **Identity Operators**\n"
   ]
  },
  {
   "cell_type": "markdown",
   "metadata": {},
   "source": [
    "Arithmetic Operators\n",
    "-------------------\n",
    "\n",
    "Python language supports the following types of arithmetic operators - \n",
    "\n",
    "|    |   Operator   |   Description                                                                                |\n",
    "|:--:|:-------------|:---------------------------------------------------------------------------------------------|\n",
    "| `+`|Addition      |Adds values on either side of the operator.                                                   |\n",
    "| `-`|Subtration    |Subtracts right hand operand from left hand operand.                                          |\n",
    "| `*`|Multiplication|Multiplies values on either side of the operator.                                             |\n",
    "| `/`|Division      |Divides left hand operand by right hand operand.                                              |\n",
    "| `%`|Modulus       |Divides left hand operand by right hand operand and returns remainder.                        |\n",
    "|`**`|Exponent      |Performs exponential (power) calculation on operators.                                        |\n",
    "|`//`|Floor Division|The division of operands where the result is floored, i.e., rounded towards negative infinity.|  "
   ]
  },
  {
   "cell_type": "code",
   "execution_count": 3,
   "metadata": {},
   "outputs": [
    {
     "name": "stdout",
     "output_type": "stream",
     "text": [
      "   a +  b    :-  30\n",
      "   a -  b    :-  -10\n",
      "   a *  b    :-  200\n",
      "   a /  b    :-  0.5\n",
      "   a %  b    :-  10\n",
      "   a ** b    :-  100000000000000000000\n",
      " 9   //  2   :-  4\n",
      " 9.0 //  2   :-  4.0\n",
      "-9   //  2   :-  -5\n",
      " 9   // -2.0 :-  -5.0\n"
     ]
    }
   ],
   "source": [
    "a, b = 10, 20\n",
    "print('   a +  b    :- ', a + b)\n",
    "print('   a -  b    :- ', a - b)\n",
    "print('   a *  b    :- ', a * b)\n",
    "print('   a /  b    :- ', a / b)\n",
    "print('   a %  b    :- ', a % b)\n",
    "print('   a ** b    :- ', a ** b)\n",
    "print(' 9   //  2   :- ', 9 // 2)\n",
    "print(' 9.0 //  2   :- ', 9.0 // 2)\n",
    "print('-9   //  2   :- ', -9 // 2)\n",
    "print(' 9   // -2.0 :- ', 9 // -2.0)"
   ]
  },
  {
   "cell_type": "markdown",
   "metadata": {},
   "source": [
    "Comparison Operators\n",
    "-------------------\n",
    "Python language supports the following types of comparison operators -\n",
    "\n",
    "|Operator|   Description                                                                                       |\n",
    "|:------:|:----------------------------------------------------------------------------------------------------|\n",
    "|  `==`  |If the values of two operands are equal, then the condition becomes true.                            |\n",
    "|  `!=`  |If values of two operands are not equal, then condition becomes true.                                |\n",
    "|   `>`  |If the value of left operand is greater than the value of right operand, then condition becomes true.|\n",
    "|   `<`  |If the value of left operand is less than the value of right operand, then condition becomes true.   |\n",
    "|  `>=`  |If the value of left operand is greater than or equal to the value of right operand, then condition becomes true.|\n",
    "|  `<=`  |If the value of left operand is less than or equal to the value of right operand, then condition becomes true.|  \n"
   ]
  },
  {
   "cell_type": "code",
   "execution_count": 46,
   "metadata": {},
   "outputs": [
    {
     "name": "stdout",
     "output_type": "stream",
     "text": [
      "(a==b) =  False\n",
      "(a!=b) =  True\n",
      "(a >b) =  False\n",
      "(a <b) =  True\n",
      "(a>=b) =  False\n",
      "(a<=b) =  True\n"
     ]
    }
   ],
   "source": [
    "a, b = 10, 20\n",
    "print('(a==b) :- ', a == b)\n",
    "print('(a!=b) :- ', a != b)\n",
    "print('(a >b) :- ', a > b)\n",
    "print('(a <b) :- ', a < b)\n",
    "print('(a>=b) :- ', a >= b)\n",
    "print('(a<=b) :- ', a <= b)"
   ]
  },
  {
   "cell_type": "markdown",
   "metadata": {},
   "source": [
    "Assignment Operators\n",
    "-------------------\n",
    "Python language supports the following types of assignment operators -\n",
    "\n",
    "|     |     Operator     |   Description                            |\n",
    "|:---:|:-----------------|:-----------------------------------------|\n",
    "| `=` |Assignment        |`c = a+b` assigns value of `a+b` into `c`.|\n",
    "| `+=`|Add AND           |`c += a` is equivalent to `c = c+a`.      |\n",
    "| `-=`|Subtrat AND       |`c -= a` is equivalent to `c = c-a`.      |\n",
    "| `*=`|Multiply AND      |`c *= a` is equivalent to `c = c*a`.      |\n",
    "| `/=`|Divide AND        |`c /= a` is equivalent to `c = c/a`.      |\n",
    "| `%=`|Modulus AND       |`c %= a` is equivalent to `c = c%a`.      |\n",
    "|`**=`|Exponent AND      |`c **= a` is equivalent to `c = c**a`.    |\n",
    "|`//=`|Floor Division AND|`c //= a` is equivalent to `c = c//a`.    |"
   ]
  },
  {
   "cell_type": "markdown",
   "metadata": {},
   "source": [
    "Logical Operators\n",
    "----------------\n",
    "Python language supports the following types of logical operators -\n",
    "\n",
    "\n",
    "|       |Operator|   Description                                                      |\n",
    "|:-----:|:-------|:-------------------------------------------------------------------|\n",
    "| `and` |AND     |If both the operands are true then condition becomes true.          |\n",
    "|  `or` |OR      |If any of the two operands are non-zero then condition becomes true.|\n",
    "| `not` |NOT     |Used to reverse the logical state of its operand.                   |"
   ]
  },
  {
   "cell_type": "code",
   "execution_count": 17,
   "metadata": {},
   "outputs": [
    {
     "name": "stdout",
     "output_type": "stream",
     "text": [
      "   (a and b) =  False\n",
      "   (a  or b) =  True\n",
      "not(a and b) =  True\n"
     ]
    }
   ],
   "source": [
    "a = True\n",
    "b = False\n",
    "print('   (a and b) = ',     a and b)\n",
    "print('   (a  or b) = ',     a  or b)\n",
    "print('not(a and b) = ', not(a and b))"
   ]
  },
  {
   "cell_type": "markdown",
   "metadata": {},
   "source": [
    "Bitwise Operators\n",
    "----------------\n",
    "Bitwise operator works on bits and performs bit by bit operation. Python language supports the following tpes of bitwise operators - \n",
    "\n",
    "|    |       Operator       |   Description                                                                |\n",
    "|:--:|:---------------------|:-----------------------------------------------------------------            |\n",
    "| `&`|Binary AND            |Operator copies a bit to the result if it exists in both operands.            |\n",
    "| `｜`|Binary OR             |It copies a bit if it exists in either operand.                              |\n",
    "| `^`|Binary XOR            |It copies the bit if it is set in one operand but not both.                   |\n",
    "| `~`|Binary Ones Complement|It is unary and has the effect of 'flipping' bits. `~x` is the same as `-x-1`.|\n",
    "|`<<`|Binary Left Shift     |The left operands value is moved left by the number of bits specified by the right operand.|\n",
    "|`>>`|Finary Right Shift    |The left operands value is moved right by the number of bits specified by the right operand.|"
   ]
  },
  {
   "cell_type": "code",
   "execution_count": 4,
   "metadata": {},
   "outputs": [
    {
     "name": "stdout",
     "output_type": "stream",
     "text": [
      "    a  :- 00111100 = 60\n",
      "    b  :- 00001101 = 13\n",
      "(a &b) :- 00001100 = 12\n",
      "(a |b) :- 00111101 = 61\n",
      "(a ^b) :- 00110001 = 49\n",
      "(  ~a) :- -0111101 = -61\n",
      "(a<<2) :- 11110000 = 240\n",
      "(b>>2) :- 00000011 = 3\n"
     ]
    }
   ],
   "source": [
    "a, b = 60, 13\n",
    "\n",
    "print('    a  :-', \"{0:08b}\".format(a), '=', a)\n",
    "print('    b  :-', \"{0:08b}\".format(b), '=', b)\n",
    "print('(a &b) :-', \"{0:08b}\".format(a & b), '=', a & b)\n",
    "print('(a |b) :-', \"{0:08b}\".format(a | b), '=', a | b)\n",
    "print('(a ^b) :-', \"{0:08b}\".format(a ^ b), '=', a ^ b)\n",
    "print('(  ~a) :-', \"{0:08b}\".format(~a), '=', ~a)\n",
    "print('(a<<2) :-', \"{0:08b}\".format(a << 2), '=', a << 2)\n",
    "print('(b>>2) :-', \"{0:08b}\".format(b >> 2), '=', b >> 2)"
   ]
  },
  {
   "cell_type": "markdown",
   "metadata": {},
   "source": [
    "Membership Operator\n",
    "------------------\n",
    "Python’s membership operators test for membership in a sequence, such as strings, lists, or tuples. There are two membership operators as explained below −\n",
    "\n",
    "\n",
    "|Operator|   Description                                                                                      |\n",
    "|:------:|:---------------------------------------------------------------------------------------------------|\n",
    "|  `in`  |Evaluates to `True` if it finds a variable in the specified sequence and `False` otherwise.         |\n",
    "|`not in`|Evaluates to `True` if it does not finds a variable in the specified sequence and `False` otherwise.|"
   ]
  },
  {
   "cell_type": "code",
   "execution_count": 49,
   "metadata": {},
   "outputs": [
    {
     "name": "stdout",
     "output_type": "stream",
     "text": [
      "a is available in the given list.\n",
      "b is not available in the given list.\n"
     ]
    }
   ],
   "source": [
    "a, b = 2, 20\n",
    "list = [1, 2, 3, 4, 5 ];\n",
    "\n",
    "if a in list:\n",
    "    print(\"a is available in the given list.\")\n",
    "else:\n",
    "    print(\"a is not available in the given list.\")\n",
    "\n",
    "if b not in list:\n",
    "    print(\"b is not available in the given list.\")\n",
    "else:\n",
    "    print(\"b is available in the given list.\")"
   ]
  },
  {
   "cell_type": "markdown",
   "metadata": {},
   "source": [
    "Idnetity Operator\n",
    "------------------\n",
    "Identity operators compare the memory locations of two objects. There are two Identity operators explained below −\n",
    "\n",
    "\n",
    "|Operator|   Description                                                                                  |\n",
    "|:------:|:-----------------------------------------------------------------------------------------------|\n",
    "|  `is`  |Evaluates to `True` if the variables on either side of the operator point to the same object and `False` otherwise.|\n",
    "|`is not`|Evaluates to `False` if the variables on either side of the operator point to the same object and `True` otherwise.|"
   ]
  },
  {
   "cell_type": "code",
   "execution_count": 5,
   "metadata": {},
   "outputs": [
    {
     "name": "stdout",
     "output_type": "stream",
     "text": [
      "Line 1 - a and b have the same identity.\n",
      "Line 2 - a and b have the same identity.\n",
      "Line 3 - a and b do not have the same identity.\n",
      "Line 4 - a and b do not have the same identity.\n"
     ]
    }
   ],
   "source": [
    "a = b = 20\n",
    "\n",
    "if ( a is b ):\n",
    "    print(\"Line 1 - a and b have the same identity.\")\n",
    "else:\n",
    "    print(\"Line 1 - a and b do not have the same identity.\")\n",
    "\n",
    "if ( id(a) == id(b) ):\n",
    "    print(\"Line 2 - a and b have the same identity.\")\n",
    "else:\n",
    "    print(\"Line 2 - a and b do not have the same identity.\")\n",
    "\n",
    "b = 20.0\n",
    "if ( a is b ):\n",
    "    print(\"Line 3 - a and b have the same identity.\")\n",
    "else:\n",
    "    print(\"Line 3 - a and b do not have the same identity.\")\n",
    "\n",
    "if ( a is not b ):\n",
    "    print(\"Line 4 - a and b do not have the same identity.\")\n",
    "else:\n",
    "    print(\"Line 4 - a and b have the same identity.\")"
   ]
  },
  {
   "cell_type": "markdown",
   "metadata": {},
   "source": [
    "Mutable and Immutable Object\n",
    "--------------------------\n",
    "\n",
    "Every object has an **identity**, a **type** and a **value**.\n",
    "\n",
    "An object's identity never changes once it has been created; you may think of it as the object's address in memory. The `is` operator compares the identity of two objects; the `id()` function returns an integer representing its identity.\n",
    "\n",
    "Note: You can imagine `id(x)` as the memory address where `x` is stored.\n",
    "\n",
    "An object's type determines the operations that the object supports (e.g., “does it have a length?”) and also defines the possible values for objects of that type. The `type()` function returns an object’s type (which is an object itself). Like its identity, an object’s type is also unchangeable.\n",
    "\n",
    "The value of some objects can change. Objects whose value can change are said to be *mutable*; objects whose value is unchangeable once they are created are called *immutable*. An object’s mutability is determined by its type; for instance - \n",
    "\n",
    "* Immutable Objects\n",
    "    * numbers\n",
    "    * strings\n",
    "    * tuples\n",
    "    * bytes\n",
    "    * frozensets\n",
    "* Mutable Objects\n",
    "    * lists\n",
    "    * bytearrays\n",
    "    * sets\n",
    "    * dictionaries\n",
    "\n",
    "Note: The value of an immutable container object that contains a reference to a mutable object can change when the latter’s value is changed; however the container is still considered immutable, because the collection of objects it contains cannot be changed. So, immutability is not strictly the same as having an unchangeable value, it is more subtle."
   ]
  },
  {
   "cell_type": "code",
   "execution_count": 8,
   "metadata": {},
   "outputs": [
    {
     "name": "stdout",
     "output_type": "stream",
     "text": [
      "a :- [1, 2, 3] ,\tid(a) :- 4387806664\n",
      "a :- [1, 10, 3] ,\tid(a) :- 4387806664\n",
      "a :- [1, 10, 3, 4] ,\tid(a) :- 4387806664\n"
     ]
    }
   ],
   "source": [
    "# Case 1\n",
    "# Once a list is created, then its identity (address) will never change though its values have been changed.\n",
    "\n",
    "a = [1, 2, 3]\n",
    "print('a :-', a,',\\tid(a) :-', id(a))\n",
    "a[1] = 10\n",
    "print('a :-', a,',\\tid(a) :-', id(a))\n",
    "a.append(4)\n",
    "print('a :-', a,',\\tid(a) :-', id(a))"
   ]
  },
  {
   "cell_type": "code",
   "execution_count": 13,
   "metadata": {},
   "outputs": [
    {
     "name": "stdout",
     "output_type": "stream",
     "text": [
      "a :- 1 , id(a) :- 4364711936\n",
      "b :- 1 , id(b) :- 4364711936\n",
      "a :- 2 , id(a) :- 4364711968\n",
      "b :- 1 , id(b) :- 4364711936\n",
      "\t id(1) :- 4364711936\n",
      "\t id(2) :- 4364711968\n"
     ]
    }
   ],
   "source": [
    "# Case 2\n",
    "# '=' operator in Python is more like 'refer to' rather than 'assign'.\n",
    "\n",
    "a = b = 1\n",
    "print('a :-', a,', id(a) :-', id(a))\n",
    "print('b :-', b,', id(b) :-', id(b))\n",
    "a = 2\n",
    "print('a :-', a,', id(a) :-', id(a))\n",
    "print('b :-', b,', id(b) :-', id(b))\n",
    "print('\\t id(1) :-', id(1))\n",
    "print('\\t id(2) :-', id(2))"
   ]
  },
  {
   "cell_type": "code",
   "execution_count": 15,
   "metadata": {},
   "outputs": [
    {
     "name": "stdout",
     "output_type": "stream",
     "text": [
      "id(a) :- 4414900912 , type(a) :- <class 'tuple'> and a :- (1, 2, [3])\n",
      "id(a) :- 4414900912 , type(a) :- <class 'tuple'> and a :- (1, 2, [100])\n"
     ]
    }
   ],
   "source": [
    "# Case 3\n",
    "# Immutability is not strictly the same as having an unchangeable value.\n",
    "# In the following case, a tuple is created, but its values can be changed.\n",
    "\n",
    "a = (1, 2, [3])\n",
    "print('id(a) :-', id(a), ', type(a) :-', type(a), 'and a :-', a)\n",
    "a[2][0] = 100\n",
    "print('id(a) :-', id(a), ', type(a) :-', type(a), 'and a :-', a)"
   ]
  },
  {
   "cell_type": "markdown",
   "metadata": {},
   "source": [
    "***Congrates! You are ready to move on!***"
   ]
  }
 ],
 "metadata": {
  "kernelspec": {
   "display_name": "Python 3",
   "language": "python",
   "name": "python3"
  },
  "language_info": {
   "codemirror_mode": {
    "name": "ipython",
    "version": 3
   },
   "file_extension": ".py",
   "mimetype": "text/x-python",
   "name": "python",
   "nbconvert_exporter": "python",
   "pygments_lexer": "ipython3",
   "version": "3.6.1"
  }
 },
 "nbformat": 4,
 "nbformat_minor": 2
}
